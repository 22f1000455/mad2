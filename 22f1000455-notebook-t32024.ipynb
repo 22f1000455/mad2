{
 "cells": [
  {
   "cell_type": "markdown",
   "id": "e66ce380",
   "metadata": {
    "papermill": {
     "duration": 0.013025,
     "end_time": "2025-01-28T17:22:54.717812",
     "exception": false,
     "start_time": "2025-01-28T17:22:54.704787",
     "status": "completed"
    },
    "tags": []
   },
   "source": [
    "# ****Project Definition****\n",
    "\n",
    "**Description:** The data is related with direct marketing campaigns of a banking institution. The marketing campaigns were based on phone calls. Often, more than one contact to the same client was required, in order to access if the product (bank term deposit) would be ('yes') or not ('no') subscribed."
   ]
  },
  {
   "cell_type": "markdown",
   "id": "b116375f",
   "metadata": {
    "papermill": {
     "duration": 0.013315,
     "end_time": "2025-01-28T17:22:54.742577",
     "exception": false,
     "start_time": "2025-01-28T17:22:54.729262",
     "status": "completed"
    },
    "tags": []
   },
   "source": [
    "# **Importing Necessary Libraries**"
   ]
  },
  {
   "cell_type": "code",
   "execution_count": 1,
   "id": "2f09b923",
   "metadata": {
    "_cell_guid": "b1076dfc-b9ad-4769-8c92-a6c4dae69d19",
    "_uuid": "8f2839f25d086af736a60e9eeb907d3b93b6e0e5",
    "execution": {
     "iopub.execute_input": "2025-01-28T17:22:54.769585Z",
     "iopub.status.busy": "2025-01-28T17:22:54.768200Z",
     "iopub.status.idle": "2025-01-28T17:22:58.854580Z",
     "shell.execute_reply": "2025-01-28T17:22:58.853590Z"
    },
    "papermill": {
     "duration": 4.102172,
     "end_time": "2025-01-28T17:22:58.856773",
     "exception": false,
     "start_time": "2025-01-28T17:22:54.754601",
     "status": "completed"
    },
    "tags": []
   },
   "outputs": [
    {
     "name": "stdout",
     "output_type": "stream",
     "text": [
      "/kaggle/input/predict-the-success-of-bank-telemarketing/sample_submission.csv\n",
      "/kaggle/input/predict-the-success-of-bank-telemarketing/train.csv\n",
      "/kaggle/input/predict-the-success-of-bank-telemarketing/test.csv\n"
     ]
    }
   ],
   "source": [
    "# This Python 3 environment comes with many helpful analytics libraries installed\n",
    "# It is defined by the kaggle/python Docker image: https://github.com/kaggle/docker-python\n",
    "# For example, here's several helpful packages to load\n",
    "\n",
    "import pandas as pd\n",
    "import numpy as np\n",
    "import matplotlib.pyplot as plt\n",
    "import seaborn as sns\n",
    "from sklearn.impute import SimpleImputer\n",
    "from sklearn.compose import ColumnTransformer\n",
    "from sklearn.preprocessing import LabelEncoder, StandardScaler, OneHotEncoder, OrdinalEncoder\n",
    "from sklearn.linear_model import LogisticRegression\n",
    "from sklearn.model_selection import train_test_split, GridSearchCV\n",
    "from sklearn.metrics import classification_report, confusion_matrix, f1_score\n",
    "from sklearn.tree import DecisionTreeClassifier\n",
    "from sklearn.ensemble import RandomForestClassifier, VotingClassifier, GradientBoostingClassifier\n",
    "from xgboost import XGBClassifier\n",
    "from imblearn.over_sampling import SMOTE\n",
    "from sklearn.pipeline import Pipeline\n",
    "import xgboost as xgb\n",
    "import lightgbm as lgb\n",
    "from sklearn.tree import plot_tree\n",
    "import warnings\n",
    "warnings.filterwarnings('ignore')\n",
    "\n",
    "# Input data files are available in the read-only \"../input/\" directory\n",
    "# For example, running this (by clicking run or pressing Shift+Enter) will list all files under the input directory\n",
    "\n",
    "import os\n",
    "for dirname, _, filenames in os.walk('/kaggle/input'):\n",
    "    for filename in filenames:\n",
    "        print(os.path.join(dirname, filename))\n",
    "\n",
    "# You can write up to 20GB to the current directory (/kaggle/working/) that gets preserved as output when you create a version using \"Save & Run All\" \n",
    "# You can also write temporary files to /kaggle/temp/, but they won't be saved outside of the current session"
   ]
  },
  {
   "cell_type": "markdown",
   "id": "bc938c2c",
   "metadata": {
    "papermill": {
     "duration": 0.011005,
     "end_time": "2025-01-28T17:22:58.879302",
     "exception": false,
     "start_time": "2025-01-28T17:22:58.868297",
     "status": "completed"
    },
    "tags": []
   },
   "source": [
    "# **EDA (EXPLORATORY DATA ANALYSIS)**\n",
    "In this section, we will load the dataset into our environment and perform exploratory data analysis (EDA) to better understand its structure and characteristics.\n",
    "*Exploratory Data Analysis* (EDA) is a crucial step in the machine learning workflow, allowing you to understand your data before applying any models. Here's a breakdown of what EDA involves and some common techniques:\n",
    "* Data Collection\n",
    "* Data Inspection\n",
    "* Bivariate Analysis\n",
    "* Multivariate Analysis\n",
    "* Missing Values\n",
    "\n",
    "***Purpose of EDA:***\n",
    "* **Understanding Data Structure:** Get a sense of the dataset's dimensions, types, and any missing values.\n",
    "* **Detecting Patterns and Trends:** Identify relationships, trends, or anomalies within the data.\n",
    "* **Generating Hypotheses:** Formulate questions or hypotheses based on observed patterns.\n",
    "\n",
    "**Tools used:**\n",
    "`pandas`, `matplotlib`, `seaborn`, `numpy`, `scipy`"
   ]
  },
  {
   "cell_type": "markdown",
   "id": "e842191e",
   "metadata": {
    "papermill": {
     "duration": 0.011293,
     "end_time": "2025-01-28T17:22:58.901585",
     "exception": false,
     "start_time": "2025-01-28T17:22:58.890292",
     "status": "completed"
    },
    "tags": []
   },
   "source": [
    "## Loading Dataset\n",
    "\n",
    " importing or reading data into your system or environment from various data sources for further processing and analysis. This is a crucial first step in any data science, machine learning, or data analytics workflow, as it allows you to work with raw data in a structured format."
   ]
  },
  {
   "cell_type": "markdown",
   "id": "eba0fe6e",
   "metadata": {
    "papermill": {
     "duration": 0.01087,
     "end_time": "2025-01-28T17:22:58.923978",
     "exception": false,
     "start_time": "2025-01-28T17:22:58.913108",
     "status": "completed"
    },
    "tags": []
   },
   "source": [
    "### Files Used\n",
    "\r",
    "**train.csv** - the training set\n",
    "\n",
    "**test.csv** - the test set"
   ]
  },
  {
   "cell_type": "code",
   "execution_count": 2,
   "id": "a7950616",
   "metadata": {
    "execution": {
     "iopub.execute_input": "2025-01-28T17:22:58.948194Z",
     "iopub.status.busy": "2025-01-28T17:22:58.946786Z",
     "iopub.status.idle": "2025-01-28T17:22:59.135597Z",
     "shell.execute_reply": "2025-01-28T17:22:59.134603Z"
    },
    "papermill": {
     "duration": 0.202969,
     "end_time": "2025-01-28T17:22:59.137856",
     "exception": false,
     "start_time": "2025-01-28T17:22:58.934887",
     "status": "completed"
    },
    "tags": []
   },
   "outputs": [],
   "source": [
    "train = pd.read_csv('/kaggle/input/predict-the-success-of-bank-telemarketing/train.csv')\n",
    "test = pd.read_csv('/kaggle/input/predict-the-success-of-bank-telemarketing/test.csv')\n",
    "sample_submission = pd.read_csv('/kaggle/input/predict-the-success-of-bank-telemarketing/sample_submission.csv')"
   ]
  },
  {
   "cell_type": "markdown",
   "id": "b5834a1c",
   "metadata": {
    "papermill": {
     "duration": 0.010831,
     "end_time": "2025-01-28T17:22:59.160327",
     "exception": false,
     "start_time": "2025-01-28T17:22:59.149496",
     "status": "completed"
    },
    "tags": []
   },
   "source": [
    "## Data Inspection\n",
    "Understanding data is about thoroughly exploring the dataset, cleaning it, and performing statistical and visual analysis to derive meaningful insights. This is essential for making data-driven decisions, such as refining marketing strategies or predicting future outcomes."
   ]
  },
  {
   "cell_type": "code",
   "execution_count": 3,
   "id": "e52ae9a8",
   "metadata": {
    "execution": {
     "iopub.execute_input": "2025-01-28T17:22:59.184162Z",
     "iopub.status.busy": "2025-01-28T17:22:59.183516Z",
     "iopub.status.idle": "2025-01-28T17:22:59.210102Z",
     "shell.execute_reply": "2025-01-28T17:22:59.209214Z"
    },
    "papermill": {
     "duration": 0.040655,
     "end_time": "2025-01-28T17:22:59.211961",
     "exception": false,
     "start_time": "2025-01-28T17:22:59.171306",
     "status": "completed"
    },
    "tags": []
   },
   "outputs": [
    {
     "data": {
      "text/html": [
       "<div>\n",
       "<style scoped>\n",
       "    .dataframe tbody tr th:only-of-type {\n",
       "        vertical-align: middle;\n",
       "    }\n",
       "\n",
       "    .dataframe tbody tr th {\n",
       "        vertical-align: top;\n",
       "    }\n",
       "\n",
       "    .dataframe thead th {\n",
       "        text-align: right;\n",
       "    }\n",
       "</style>\n",
       "<table border=\"1\" class=\"dataframe\">\n",
       "  <thead>\n",
       "    <tr style=\"text-align: right;\">\n",
       "      <th></th>\n",
       "      <th>last contact date</th>\n",
       "      <th>age</th>\n",
       "      <th>job</th>\n",
       "      <th>marital</th>\n",
       "      <th>education</th>\n",
       "      <th>default</th>\n",
       "      <th>balance</th>\n",
       "      <th>housing</th>\n",
       "      <th>loan</th>\n",
       "      <th>contact</th>\n",
       "      <th>duration</th>\n",
       "      <th>campaign</th>\n",
       "      <th>pdays</th>\n",
       "      <th>previous</th>\n",
       "      <th>poutcome</th>\n",
       "      <th>target</th>\n",
       "    </tr>\n",
       "  </thead>\n",
       "  <tbody>\n",
       "    <tr>\n",
       "      <th>0</th>\n",
       "      <td>2009-04-17</td>\n",
       "      <td>26</td>\n",
       "      <td>blue-collar</td>\n",
       "      <td>married</td>\n",
       "      <td>secondary</td>\n",
       "      <td>no</td>\n",
       "      <td>647</td>\n",
       "      <td>yes</td>\n",
       "      <td>no</td>\n",
       "      <td>cellular</td>\n",
       "      <td>357</td>\n",
       "      <td>2</td>\n",
       "      <td>331</td>\n",
       "      <td>1</td>\n",
       "      <td>other</td>\n",
       "      <td>no</td>\n",
       "    </tr>\n",
       "    <tr>\n",
       "      <th>1</th>\n",
       "      <td>2009-10-11</td>\n",
       "      <td>52</td>\n",
       "      <td>technician</td>\n",
       "      <td>married</td>\n",
       "      <td>secondary</td>\n",
       "      <td>no</td>\n",
       "      <td>553</td>\n",
       "      <td>yes</td>\n",
       "      <td>no</td>\n",
       "      <td>telephone</td>\n",
       "      <td>160</td>\n",
       "      <td>1</td>\n",
       "      <td>-1</td>\n",
       "      <td>0</td>\n",
       "      <td>NaN</td>\n",
       "      <td>no</td>\n",
       "    </tr>\n",
       "    <tr>\n",
       "      <th>2</th>\n",
       "      <td>2010-11-20</td>\n",
       "      <td>44</td>\n",
       "      <td>blue-collar</td>\n",
       "      <td>married</td>\n",
       "      <td>secondary</td>\n",
       "      <td>no</td>\n",
       "      <td>1397</td>\n",
       "      <td>no</td>\n",
       "      <td>no</td>\n",
       "      <td>cellular</td>\n",
       "      <td>326</td>\n",
       "      <td>1</td>\n",
       "      <td>-1</td>\n",
       "      <td>0</td>\n",
       "      <td>NaN</td>\n",
       "      <td>no</td>\n",
       "    </tr>\n",
       "    <tr>\n",
       "      <th>3</th>\n",
       "      <td>2009-09-01</td>\n",
       "      <td>33</td>\n",
       "      <td>admin.</td>\n",
       "      <td>married</td>\n",
       "      <td>secondary</td>\n",
       "      <td>no</td>\n",
       "      <td>394</td>\n",
       "      <td>yes</td>\n",
       "      <td>no</td>\n",
       "      <td>telephone</td>\n",
       "      <td>104</td>\n",
       "      <td>3</td>\n",
       "      <td>-1</td>\n",
       "      <td>0</td>\n",
       "      <td>NaN</td>\n",
       "      <td>no</td>\n",
       "    </tr>\n",
       "    <tr>\n",
       "      <th>4</th>\n",
       "      <td>2008-01-29</td>\n",
       "      <td>31</td>\n",
       "      <td>entrepreneur</td>\n",
       "      <td>single</td>\n",
       "      <td>tertiary</td>\n",
       "      <td>no</td>\n",
       "      <td>137</td>\n",
       "      <td>no</td>\n",
       "      <td>no</td>\n",
       "      <td>cellular</td>\n",
       "      <td>445</td>\n",
       "      <td>2</td>\n",
       "      <td>-1</td>\n",
       "      <td>0</td>\n",
       "      <td>NaN</td>\n",
       "      <td>no</td>\n",
       "    </tr>\n",
       "  </tbody>\n",
       "</table>\n",
       "</div>"
      ],
      "text/plain": [
       "  last contact date  age           job  marital  education default  balance  \\\n",
       "0        2009-04-17   26   blue-collar  married  secondary      no      647   \n",
       "1        2009-10-11   52    technician  married  secondary      no      553   \n",
       "2        2010-11-20   44   blue-collar  married  secondary      no     1397   \n",
       "3        2009-09-01   33        admin.  married  secondary      no      394   \n",
       "4        2008-01-29   31  entrepreneur   single   tertiary      no      137   \n",
       "\n",
       "  housing loan    contact  duration  campaign  pdays  previous poutcome target  \n",
       "0     yes   no   cellular       357         2    331         1    other     no  \n",
       "1     yes   no  telephone       160         1     -1         0      NaN     no  \n",
       "2      no   no   cellular       326         1     -1         0      NaN     no  \n",
       "3     yes   no  telephone       104         3     -1         0      NaN     no  \n",
       "4      no   no   cellular       445         2     -1         0      NaN     no  "
      ]
     },
     "execution_count": 3,
     "metadata": {},
     "output_type": "execute_result"
    }
   ],
   "source": [
    "train.head()"
   ]
  },
  {
   "cell_type": "code",
   "execution_count": 4,
   "id": "68cb7963",
   "metadata": {
    "execution": {
     "iopub.execute_input": "2025-01-28T17:22:59.236244Z",
     "iopub.status.busy": "2025-01-28T17:22:59.235882Z",
     "iopub.status.idle": "2025-01-28T17:22:59.272507Z",
     "shell.execute_reply": "2025-01-28T17:22:59.271557Z"
    },
    "papermill": {
     "duration": 0.051372,
     "end_time": "2025-01-28T17:22:59.275043",
     "exception": false,
     "start_time": "2025-01-28T17:22:59.223671",
     "status": "completed"
    },
    "tags": []
   },
   "outputs": [
    {
     "name": "stdout",
     "output_type": "stream",
     "text": [
      "<class 'pandas.core.frame.DataFrame'>\n",
      "RangeIndex: 39211 entries, 0 to 39210\n",
      "Data columns (total 16 columns):\n",
      " #   Column             Non-Null Count  Dtype \n",
      "---  ------             --------------  ----- \n",
      " 0   last contact date  39211 non-null  object\n",
      " 1   age                39211 non-null  int64 \n",
      " 2   job                38982 non-null  object\n",
      " 3   marital            39211 non-null  object\n",
      " 4   education          37744 non-null  object\n",
      " 5   default            39211 non-null  object\n",
      " 6   balance            39211 non-null  int64 \n",
      " 7   housing            39211 non-null  object\n",
      " 8   loan               39211 non-null  object\n",
      " 9   contact            28875 non-null  object\n",
      " 10  duration           39211 non-null  int64 \n",
      " 11  campaign           39211 non-null  int64 \n",
      " 12  pdays              39211 non-null  int64 \n",
      " 13  previous           39211 non-null  int64 \n",
      " 14  poutcome           9760 non-null   object\n",
      " 15  target             39211 non-null  object\n",
      "dtypes: int64(6), object(10)\n",
      "memory usage: 4.8+ MB\n"
     ]
    }
   ],
   "source": [
    "train.info()"
   ]
  },
  {
   "cell_type": "markdown",
   "id": "f6ced423",
   "metadata": {
    "papermill": {
     "duration": 0.011599,
     "end_time": "2025-01-28T17:22:59.299001",
     "exception": false,
     "start_time": "2025-01-28T17:22:59.287402",
     "status": "completed"
    },
    "tags": []
   },
   "source": [
    "The train dataset contains 39,211 records with 15 columns, including both numerical and categorical data.\n",
    "\n",
    "**Key points:**\n",
    "\n",
    "**Missing Data:** Columns like Job, Education, Contact, and Poutcome have missing values, with Poutcome having a large proportion of missing entries (~75%).\n",
    "\n",
    "**Numerical Columns:** Includes Age, Balance, Duration, and others, with no missing values. These could be useful in predicting the target variable.\n",
    "\n",
    "**Categorical Columns:** Includes Job, Marital, Education, Contact, Poutcome, and Target. Target is likely the key variable, indicating success or failure in a campaign."
   ]
  },
  {
   "cell_type": "code",
   "execution_count": 5,
   "id": "a9e7f560",
   "metadata": {
    "execution": {
     "iopub.execute_input": "2025-01-28T17:22:59.324164Z",
     "iopub.status.busy": "2025-01-28T17:22:59.323812Z",
     "iopub.status.idle": "2025-01-28T17:22:59.356739Z",
     "shell.execute_reply": "2025-01-28T17:22:59.355797Z"
    },
    "papermill": {
     "duration": 0.047952,
     "end_time": "2025-01-28T17:22:59.358745",
     "exception": false,
     "start_time": "2025-01-28T17:22:59.310793",
     "status": "completed"
    },
    "tags": []
   },
   "outputs": [
    {
     "data": {
      "text/html": [
       "<div>\n",
       "<style scoped>\n",
       "    .dataframe tbody tr th:only-of-type {\n",
       "        vertical-align: middle;\n",
       "    }\n",
       "\n",
       "    .dataframe tbody tr th {\n",
       "        vertical-align: top;\n",
       "    }\n",
       "\n",
       "    .dataframe thead th {\n",
       "        text-align: right;\n",
       "    }\n",
       "</style>\n",
       "<table border=\"1\" class=\"dataframe\">\n",
       "  <thead>\n",
       "    <tr style=\"text-align: right;\">\n",
       "      <th></th>\n",
       "      <th>age</th>\n",
       "      <th>balance</th>\n",
       "      <th>duration</th>\n",
       "      <th>campaign</th>\n",
       "      <th>pdays</th>\n",
       "      <th>previous</th>\n",
       "    </tr>\n",
       "  </thead>\n",
       "  <tbody>\n",
       "    <tr>\n",
       "      <th>count</th>\n",
       "      <td>39211.000000</td>\n",
       "      <td>39211.000000</td>\n",
       "      <td>39211.000000</td>\n",
       "      <td>39211.000000</td>\n",
       "      <td>39211.000000</td>\n",
       "      <td>39211.000000</td>\n",
       "    </tr>\n",
       "    <tr>\n",
       "      <th>mean</th>\n",
       "      <td>42.120247</td>\n",
       "      <td>5441.781719</td>\n",
       "      <td>439.062789</td>\n",
       "      <td>5.108770</td>\n",
       "      <td>72.256051</td>\n",
       "      <td>11.826171</td>\n",
       "    </tr>\n",
       "    <tr>\n",
       "      <th>std</th>\n",
       "      <td>12.709352</td>\n",
       "      <td>16365.292065</td>\n",
       "      <td>769.096291</td>\n",
       "      <td>9.890153</td>\n",
       "      <td>160.942593</td>\n",
       "      <td>44.140259</td>\n",
       "    </tr>\n",
       "    <tr>\n",
       "      <th>min</th>\n",
       "      <td>18.000000</td>\n",
       "      <td>-8019.000000</td>\n",
       "      <td>0.000000</td>\n",
       "      <td>1.000000</td>\n",
       "      <td>-1.000000</td>\n",
       "      <td>0.000000</td>\n",
       "    </tr>\n",
       "    <tr>\n",
       "      <th>25%</th>\n",
       "      <td>33.000000</td>\n",
       "      <td>98.000000</td>\n",
       "      <td>109.000000</td>\n",
       "      <td>1.000000</td>\n",
       "      <td>-1.000000</td>\n",
       "      <td>0.000000</td>\n",
       "    </tr>\n",
       "    <tr>\n",
       "      <th>50%</th>\n",
       "      <td>40.000000</td>\n",
       "      <td>549.000000</td>\n",
       "      <td>197.000000</td>\n",
       "      <td>2.000000</td>\n",
       "      <td>-1.000000</td>\n",
       "      <td>0.000000</td>\n",
       "    </tr>\n",
       "    <tr>\n",
       "      <th>75%</th>\n",
       "      <td>50.000000</td>\n",
       "      <td>2030.000000</td>\n",
       "      <td>380.000000</td>\n",
       "      <td>4.000000</td>\n",
       "      <td>-1.000000</td>\n",
       "      <td>0.000000</td>\n",
       "    </tr>\n",
       "    <tr>\n",
       "      <th>max</th>\n",
       "      <td>95.000000</td>\n",
       "      <td>102127.000000</td>\n",
       "      <td>4918.000000</td>\n",
       "      <td>63.000000</td>\n",
       "      <td>871.000000</td>\n",
       "      <td>275.000000</td>\n",
       "    </tr>\n",
       "  </tbody>\n",
       "</table>\n",
       "</div>"
      ],
      "text/plain": [
       "                age        balance      duration      campaign         pdays  \\\n",
       "count  39211.000000   39211.000000  39211.000000  39211.000000  39211.000000   \n",
       "mean      42.120247    5441.781719    439.062789      5.108770     72.256051   \n",
       "std       12.709352   16365.292065    769.096291      9.890153    160.942593   \n",
       "min       18.000000   -8019.000000      0.000000      1.000000     -1.000000   \n",
       "25%       33.000000      98.000000    109.000000      1.000000     -1.000000   \n",
       "50%       40.000000     549.000000    197.000000      2.000000     -1.000000   \n",
       "75%       50.000000    2030.000000    380.000000      4.000000     -1.000000   \n",
       "max       95.000000  102127.000000   4918.000000     63.000000    871.000000   \n",
       "\n",
       "           previous  \n",
       "count  39211.000000  \n",
       "mean      11.826171  \n",
       "std       44.140259  \n",
       "min        0.000000  \n",
       "25%        0.000000  \n",
       "50%        0.000000  \n",
       "75%        0.000000  \n",
       "max      275.000000  "
      ]
     },
     "execution_count": 5,
     "metadata": {},
     "output_type": "execute_result"
    }
   ],
   "source": [
    "train.describe()"
   ]
  },
  {
   "cell_type": "markdown",
   "id": "cea29d0a",
   "metadata": {
    "papermill": {
     "duration": 0.011706,
     "end_time": "2025-01-28T17:22:59.382254",
     "exception": false,
     "start_time": "2025-01-28T17:22:59.370548",
     "status": "completed"
    },
    "tags": []
   },
   "source": [
    "*The summary statistics for the numerical features indicate the following insights:*\n",
    "\n",
    "**Age:** The dataset has an average age of approximately 42 years, with a range from 18 to 95 years. The standard deviation of about 12.7 years suggests some variability among ages.\n",
    "\n",
    "**Balance:** The average account balance is around 5,442, but the minimum balance is negative, indicating overdrafts. The balance values show significant variability, as evidenced by a high standard deviation of 16,365.\n",
    "\n",
    "**Duration:** The average duration of calls is about 439 seconds, with a minimum of 0 seconds, indicating that some calls may not have occurred. The maximum duration is significantly higher, at nearly 4,918 seconds.\n",
    "\n",
    "**Campaign:** On average, individuals were contacted during about 5 campaigns, with the maximum being 63, indicating some individuals were contacted multiple times.\n",
    "\n",
    "**Pdays:** This feature represents the number of days since the last contact, with a mean of approximately 72 days. Notably, -1 values indicate that individuals have never been contacted.\n",
    "\n",
    "**Previous:** The average number of previous contacts is about 12, with a maximum of 275, suggesting that some individuals have been contacted frequently in the past."
   ]
  },
  {
   "cell_type": "code",
   "execution_count": 6,
   "id": "7274c223",
   "metadata": {
    "execution": {
     "iopub.execute_input": "2025-01-28T17:22:59.406761Z",
     "iopub.status.busy": "2025-01-28T17:22:59.406136Z",
     "iopub.status.idle": "2025-01-28T17:22:59.443804Z",
     "shell.execute_reply": "2025-01-28T17:22:59.442823Z"
    },
    "papermill": {
     "duration": 0.052593,
     "end_time": "2025-01-28T17:22:59.445870",
     "exception": false,
     "start_time": "2025-01-28T17:22:59.393277",
     "status": "completed"
    },
    "tags": []
   },
   "outputs": [
    {
     "data": {
      "text/plain": [
       "0"
      ]
     },
     "execution_count": 6,
     "metadata": {},
     "output_type": "execute_result"
    }
   ],
   "source": [
    "train.duplicated().sum()"
   ]
  },
  {
   "cell_type": "markdown",
   "id": "2f82cf7e",
   "metadata": {
    "papermill": {
     "duration": 0.011517,
     "end_time": "2025-01-28T17:22:59.469596",
     "exception": false,
     "start_time": "2025-01-28T17:22:59.458079",
     "status": "completed"
    },
    "tags": []
   },
   "source": [
    "## **Visualizations**\n",
    "\n",
    "Data visualization is the process of representing data in a graphical format to better understand patterns, trends, relationships, and distributions. Visualizing data allows you to derive insights and communicate findings effectively. \n",
    "\n",
    "\n",
    "* Good visuals help in capturing the attention of the audience, and they can understand stuff better.\n",
    "* Makes data exploration more accessible and easy.\n",
    "* Data insights and visuals can be shared easily.\n",
    "* Understand the information more easily.\n",
    "* Gain better insights.\n",
    "* Make swift data-driven decisions.\n",
    "\n",
    "**Tools Used:**\n",
    "`matplotlib`, `plotly`, `seaborn`"
   ]
  },
  {
   "cell_type": "code",
   "execution_count": 7,
   "id": "52c22935",
   "metadata": {
    "execution": {
     "iopub.execute_input": "2025-01-28T17:22:59.495480Z",
     "iopub.status.busy": "2025-01-28T17:22:59.494666Z",
     "iopub.status.idle": "2025-01-28T17:22:59.712539Z",
     "shell.execute_reply": "2025-01-28T17:22:59.711379Z"
    },
    "papermill": {
     "duration": 0.23259,
     "end_time": "2025-01-28T17:22:59.714388",
     "exception": false,
     "start_time": "2025-01-28T17:22:59.481798",
     "status": "completed"
    },
    "tags": []
   },
   "outputs": [
    {
     "data": {
      "image/png": "[encoded data removed]",
      "text/plain": [
       "<Figure size 640x480 with 1 Axes>"
      ]
     },
     "metadata": {},
     "output_type": "display_data"
    }
   ],
   "source": [
    "ax=sns.countplot(x='target', data=train, palette='crest')\n",
    "ax.set_facecolor('#202124')\n",
    "plt.gcf().set_facecolor('#202124')\n",
    "ax.tick_params(axis='x', colors='white')\n",
    "ax.tick_params(axis='y', colors='white')\n",
    "ax.set_xlabel(\"Target\", color='white')\n",
    "ax.set_ylabel(\"Count\", color='white')\n",
    "for spine in ax.spines.values():\n",
    "    spine.set_visible(False)\n",
    "plt.title(\"Distribution of Target Variable\", color='white')\n",
    "plt.show()"
   ]
  },
  {
   "cell_type": "markdown",
   "id": "b73d63cb",
   "metadata": {
    "papermill": {
     "duration": 0.01185,
     "end_time": "2025-01-28T17:22:59.738573",
     "exception": false,
     "start_time": "2025-01-28T17:22:59.726723",
     "status": "completed"
    },
    "tags": []
   },
   "source": [
    "The plot shows the distribution of a target variable, a binary classification problem (subscription or non-subscription).\n",
    "\n",
    "**Here are some key observations:**\n",
    "\n",
    "* ***Class Imbalance:*** The distribution is heavily skewed towards the \"no\" category, with significantly fewer instances in the \"yes\" category. This indicates a class imbalance, which can impact model performance and require careful handling during training.\n",
    "* ***Majority Class:*** The \"no\" class is the majority class, making up a much larger portion of the dataset.\n",
    "* ***Minority Class:*** The \"yes\" class is the minority class, with a much smaller representation."
   ]
  },
  {
   "cell_type": "code",
   "execution_count": 8,
   "id": "57dff95b",
   "metadata": {
    "execution": {
     "iopub.execute_input": "2025-01-28T17:22:59.764145Z",
     "iopub.status.busy": "2025-01-28T17:22:59.763282Z",
     "iopub.status.idle": "2025-01-28T17:23:01.433152Z",
     "shell.execute_reply": "2025-01-28T17:23:01.432017Z"
    },
    "papermill": {
     "duration": 1.684799,
     "end_time": "2025-01-28T17:23:01.435290",
     "exception": false,
     "start_time": "2025-01-28T17:22:59.750491",
     "status": "completed"
    },
    "tags": []
   },
   "outputs": [
    {
     "data": {
      "image/png": "[encoded data removed]",
      "text/plain": [
       "<Figure size 1500x1000 with 8 Axes>"
      ]
     },
     "metadata": {},
     "output_type": "display_data"
    }
   ],
   "source": [
    "categorical_features = ['job', 'marital', 'education', 'default', 'housing', 'loan', 'contact', 'poutcome']\n",
    "\n",
    "plt.figure(figsize=(15, 10))\n",
    "plt.gcf().patch.set_facecolor('#202124')\n",
    "for i, feature in enumerate(categorical_features, 1):\n",
    "    plt.subplot(3, 3, i)\n",
    "    plt.gca().set_facecolor('#202124')\n",
    "    ax=sns.countplot(data=train, x=feature, hue='target', palette='viridis')\n",
    "    ax.set_facecolor('#202124')\n",
    "    plt.title(f'{feature} by Target', color='white')\n",
    "    plt.xlabel(feature, color='white')\n",
    "    plt.ylabel('Count', color='white')\n",
    "    ax.tick_params(axis='x', colors='white')\n",
    "    ax.tick_params(axis='y', colors='white')\n",
    "\n",
    "    plt.subplots_adjust(hspace=0.7, wspace=0.6)\n",
    "    for spine in ax.spines.values():\n",
    "        spine.set_visible(False)\n",
    "    plt.legend(borderpad=0.2, facecolor='#202124', labelcolor='white')"
   ]
  },
  {
   "cell_type": "markdown",
   "id": "c01fabd4",
   "metadata": {
    "papermill": {
     "duration": 0.013711,
     "end_time": "2025-01-28T17:23:01.465386",
     "exception": false,
     "start_time": "2025-01-28T17:23:01.451675",
     "status": "completed"
    },
    "tags": []
   },
   "source": [
    "* Certain job categories, marital statuses, and educational levels may be more associated with subscription or non-subscription. \n",
    "* Having a default on a loan is strongly associated with non-subscription, while the effects of housing and loan on the target variable are less pronounced.\n",
    "* The contact method and previous outcome can be influential factors on subscription or non-subscription. Specifically, the \"success\" previous outcome appears to be strongly associated with subscription, while the \"unknown\" previous outcome has a more balanced distribution. "
   ]
  },
  {
   "cell_type": "code",
   "execution_count": 9,
   "id": "9b0942b1",
   "metadata": {
    "execution": {
     "iopub.execute_input": "2025-01-28T17:23:01.495141Z",
     "iopub.status.busy": "2025-01-28T17:23:01.494252Z",
     "iopub.status.idle": "2025-01-28T17:23:04.385460Z",
     "shell.execute_reply": "2025-01-28T17:23:04.384520Z"
    },
    "papermill": {
     "duration": 2.908751,
     "end_time": "2025-01-28T17:23:04.387724",
     "exception": false,
     "start_time": "2025-01-28T17:23:01.478973",
     "status": "completed"
    },
    "tags": []
   },
   "outputs": [
    {
     "data": {
      "image/png": "[encoded data removed]",
      "text/plain": [
       "<Figure size 1500x1000 with 6 Axes>"
      ]
     },
     "metadata": {},
     "output_type": "display_data"
    }
   ],
   "source": [
    "numerical_features = ['age', 'balance', 'duration', 'campaign', 'pdays', 'previous']\n",
    "\n",
    "plt.figure(figsize=(15, 10))\n",
    "plt.gcf().patch.set_facecolor('#202124')\n",
    "for i, feature in enumerate(numerical_features, 1):\n",
    "    plt.subplot(3, 2, i)\n",
    "    ax=sns.histplot(train[feature], bins=30, kde=True, palette='viridis')\n",
    "    ax.set_facecolor('#202124')\n",
    "    plt.title(f'Distribution of {feature}', color='white')\n",
    "    plt.xlabel(feature, color='white')\n",
    "    plt.ylabel('Frequency', color='white')\n",
    "    ax.tick_params(axis='x', colors='white')\n",
    "    ax.tick_params(axis='y', colors='white')\n",
    "    plt.subplots_adjust(hspace=0.5, wspace=0.4)\n",
    "    for spine in ax.spines.values():\n",
    "        spine.set_visible(False)\n"
   ]
  },
  {
   "cell_type": "markdown",
   "id": "a49218b4",
   "metadata": {
    "papermill": {
     "duration": 0.015305,
     "end_time": "2025-01-28T17:23:04.419130",
     "exception": false,
     "start_time": "2025-01-28T17:23:04.403825",
     "status": "completed"
    },
    "tags": []
   },
   "source": [
    "**Key Observations:**\n",
    "* **Age:** Right-skewed distribution with a peak around 30-35 years, indicating a predominance of younger individuals.\n",
    "* **Balance:** Heavily right-skewed, most individuals have low balances, peaking around 0.\n",
    "* **Duration:** Highly right-skewed, indicating most calls are short, with a peak around 0.\n",
    "* **Campaign:** Right-skewed, with most individuals contacted once, peaking at 0.\n",
    "* **Pdays:** Heavily right-skewed, with many individuals uncontacted (pdays=999) and specific peaks indicating patterns in contact attempts.\n",
    "* **Previous:** Right-skewed, most individuals contacted once or not at all (previous=0), peaking at 0."
   ]
  },
  {
   "cell_type": "code",
   "execution_count": 10,
   "id": "e0e38e6f",
   "metadata": {
    "execution": {
     "iopub.execute_input": "2025-01-28T17:23:04.453643Z",
     "iopub.status.busy": "2025-01-28T17:23:04.453134Z",
     "iopub.status.idle": "2025-01-28T17:23:04.830939Z",
     "shell.execute_reply": "2025-01-28T17:23:04.829837Z"
    },
    "papermill": {
     "duration": 0.398303,
     "end_time": "2025-01-28T17:23:04.833154",
     "exception": false,
     "start_time": "2025-01-28T17:23:04.434851",
     "status": "completed"
    },
    "tags": []
   },
   "outputs": [
    {
     "data": {
      "image/png": "[encoded data removed]",
      "text/plain": [
       "<Figure size 1000x800 with 2 Axes>"
      ]
     },
     "metadata": {},
     "output_type": "display_data"
    }
   ],
   "source": [
    "plt.figure(figsize=(10, 8))\n",
    "correlation_matrix = train[numerical_features].corr()\n",
    "ax=sns.heatmap(correlation_matrix, annot=True, cmap='crest', fmt=\".2f\")\n",
    "plt.title('Correlation Matrix of Numerical Features', color='white')\n",
    "plt.gcf().patch.set_facecolor('#202124')\n",
    "ax.tick_params(axis='x', colors='white')\n",
    "ax.tick_params(axis='y', colors='white')\n",
    "colorbar = ax.collections[0].colorbar\n",
    "colorbar.ax.yaxis.set_tick_params(color='white')  # Change color bar ticks to white\n",
    "colorbar.ax.set_yticklabels(colorbar.ax.get_yticklabels(), color='white')\n",
    "plt.show()"
   ]
  },
  {
   "cell_type": "markdown",
   "id": "de063b13",
   "metadata": {
    "papermill": {
     "duration": 0.016493,
     "end_time": "2025-01-28T17:23:04.867068",
     "exception": false,
     "start_time": "2025-01-28T17:23:04.850575",
     "status": "completed"
    },
    "tags": []
   },
   "source": [
    "**Correlation Matrix Insights:**\n",
    "\n",
    "**Positive Correlations:**\n",
    "\n",
    "* Duration & Campaign: Strong link; longer calls relate to more contact attempts.\n",
    "* Balance & Previous: Moderate link; higher balances often mean more past contacts.\n",
    "\n",
    "**Negative Correlations:**\n",
    "\n",
    "* Pdays & Previous: Strong inverse relationship; more past contacts result in lower pdays.\n",
    "\n",
    "**Weak Correlations:**\n",
    "\n",
    "* Age: Generally weak correlations with other features, indicating limited relationships.\n",
    "  \n",
    "\n",
    "\n",
    "**Interpreting the Heatmap:**\n",
    "\n",
    "Bright colors (yellow/green): High positive correlation (values close to +1).\n",
    "\n",
    "\n",
    "Dark colors (blue/purple): High negative correlation (values close to -1).\n",
    "\n",
    "\n",
    "Light colors: Low or no correlation (values close to 0).\n",
    "\n",
    "\n",
    "Diagonal: Always 1 since each feature is perfectly correlated with itself."
   ]
  },
  {
   "cell_type": "markdown",
   "id": "03f9c829",
   "metadata": {
    "papermill": {
     "duration": 0.01581,
     "end_time": "2025-01-28T17:23:04.899635",
     "exception": false,
     "start_time": "2025-01-28T17:23:04.883825",
     "status": "completed"
    },
    "tags": []
   },
   "source": [
    "# DATA PREPROCESSING\n",
    "\n",
    "Data preprocessing is the task of cleaning and transforming raw data to make it suitable for analysis and modeling. Preprocessing steps include data cleaning, data normalization, and data transformation. The goal of data preprocessing is to improve both the accuracy and efficiency of downstream analysis and modeling.\n",
    "\n",
    "**Tools Used:** \n",
    "`StandardScaler()`, `OneHotEncoder()`, `SimpleImputer()`, `ColumnTransformer()`, `OrdinalEncoder()`\n",
    "\n",
    "Steps Included in Data Preprocessing:\n",
    "* Data Cleaning\n",
    "* Data Standardization\n",
    "* Categorical Encoding\n",
    "* Feature Scaling\n",
    "* Transformation"
   ]
  },
  {
   "cell_type": "markdown",
   "id": "f180bfcb",
   "metadata": {
    "papermill": {
     "duration": 0.016227,
     "end_time": "2025-01-28T17:23:04.932524",
     "exception": false,
     "start_time": "2025-01-28T17:23:04.916297",
     "status": "completed"
    },
    "tags": []
   },
   "source": [
    "## Data Imputation\n",
    "Data imputation is the process of filling in missing or incomplete values in a dataset. It's used to ensure that the dataset is complete and ready for analysis or machine learning. Imputation helps prevent data loss and allows algorithms to work with complete datasets. However, it's important to choose the right imputation method to avoid introducing bias."
   ]
  },
  {
   "cell_type": "code",
   "execution_count": 11,
   "id": "e85088c5",
   "metadata": {
    "execution": {
     "iopub.execute_input": "2025-01-28T17:23:04.968017Z",
     "iopub.status.busy": "2025-01-28T17:23:04.967630Z",
     "iopub.status.idle": "2025-01-28T17:23:04.972145Z",
     "shell.execute_reply": "2025-01-28T17:23:04.971159Z"
    },
    "papermill": {
     "duration": 0.024731,
     "end_time": "2025-01-28T17:23:04.974254",
     "exception": false,
     "start_time": "2025-01-28T17:23:04.949523",
     "status": "completed"
    },
    "tags": []
   },
   "outputs": [],
   "source": [
    "# # Impute missing values for 'job' and 'education' with the most frequent category (mode)\n",
    "# train['job'] = train['job'].fillna(train['job'].mode()[0])\n",
    "# train['education'] = train['education'].fillna(train['education'].mode()[0])\n",
    "# # Impute missing values for 'contact' and 'poutcome' with 'unknown'\n",
    "# train['contact'] = train['contact'].fillna('unknown')\n",
    "# train['poutcome'] = train['poutcome'].fillna('unknown')\n"
   ]
  },
  {
   "cell_type": "code",
   "execution_count": 12,
   "id": "22ea7a25",
   "metadata": {
    "execution": {
     "iopub.execute_input": "2025-01-28T17:23:05.010251Z",
     "iopub.status.busy": "2025-01-28T17:23:05.009881Z",
     "iopub.status.idle": "2025-01-28T17:23:05.055452Z",
     "shell.execute_reply": "2025-01-28T17:23:05.054331Z"
    },
    "papermill": {
     "duration": 0.066399,
     "end_time": "2025-01-28T17:23:05.057673",
     "exception": false,
     "start_time": "2025-01-28T17:23:04.991274",
     "status": "completed"
    },
    "tags": []
   },
   "outputs": [],
   "source": [
    "# Define the ColumnTransformer with SimpleImputer for both 'most_frequent' and 'constant' strategies\n",
    "imputeTransformer = ColumnTransformer([\n",
    "    ('SI_mostfrequent', SimpleImputer(strategy='most_frequent'), ['job', 'education']),\n",
    "    ('SI_unknown_values', SimpleImputer(strategy='constant', fill_value='unknown'), ['contact', 'poutcome'])\n",
    "], remainder='passthrough', verbose_feature_names_out=False)\n",
    "\n",
    "transformed_features = imputeTransformer.fit_transform(train)\n",
    "\n",
    "columns = imputeTransformer.get_feature_names_out()\n",
    "train = pd.DataFrame(transformed_features, columns=columns)"
   ]
  },
  {
   "cell_type": "markdown",
   "id": "905f50f6",
   "metadata": {
    "papermill": {
     "duration": 0.015236,
     "end_time": "2025-01-28T17:23:05.088979",
     "exception": false,
     "start_time": "2025-01-28T17:23:05.073743",
     "status": "completed"
    },
    "tags": []
   },
   "source": [
    "The code uses a **ColumnTransformer** with **SimpleImputer** to handle missing values in specific columns of the `train` dataset:\r\n",
    "\r\n",
    "- **'job'** and **'education'** columns: Missing values are replaced with the most frequent value.\r\n",
    "- **'contact'** and **'poutcome'** columns: Missing values are replaced with `'unknown'`.\r\n",
    "- Other columns are left unchanged (`remainer='pasough'`)ugh'\n",
    "\n",
    "\n",
    "The `fit_transform()` method is then applied to the train dataset to impute the missing values, and the resulting data is converted back into a DataFrame with updated column names using `get_feature_names_out()`. This produces the transformed dataset with imputed values for missing entrmes."
   ]
  },
  {
   "cell_type": "code",
   "execution_count": 13,
   "id": "4abce1c2",
   "metadata": {
    "execution": {
     "iopub.execute_input": "2025-01-28T17:23:05.122222Z",
     "iopub.status.busy": "2025-01-28T17:23:05.121855Z",
     "iopub.status.idle": "2025-01-28T17:23:05.156976Z",
     "shell.execute_reply": "2025-01-28T17:23:05.156157Z"
    },
    "papermill": {
     "duration": 0.054066,
     "end_time": "2025-01-28T17:23:05.158748",
     "exception": false,
     "start_time": "2025-01-28T17:23:05.104682",
     "status": "completed"
    },
    "tags": []
   },
   "outputs": [
    {
     "data": {
      "text/plain": [
       "job                  0\n",
       "education            0\n",
       "contact              0\n",
       "poutcome             0\n",
       "last contact date    0\n",
       "age                  0\n",
       "marital              0\n",
       "default              0\n",
       "balance              0\n",
       "housing              0\n",
       "loan                 0\n",
       "duration             0\n",
       "campaign             0\n",
       "pdays                0\n",
       "previous             0\n",
       "target               0\n",
       "dtype: int64"
      ]
     },
     "execution_count": 13,
     "metadata": {},
     "output_type": "execute_result"
    }
   ],
   "source": [
    "train.isnull().sum()"
   ]
  },
  {
   "cell_type": "markdown",
   "id": "46a1fa2d",
   "metadata": {
    "papermill": {
     "duration": 0.01608,
     "end_time": "2025-01-28T17:23:05.191301",
     "exception": false,
     "start_time": "2025-01-28T17:23:05.175221",
     "status": "completed"
    },
    "tags": []
   },
   "source": [
    "##  Feature Engineering\n",
    "\n",
    "Feature engineering is the process of selecting and transforming variables from raw data to create features for machine learning models. The goal is to improve the model's accuracy and performance by creating a precise set of features.  "
   ]
  },
  {
   "cell_type": "code",
   "execution_count": 14,
   "id": "7794f7bd",
   "metadata": {
    "execution": {
     "iopub.execute_input": "2025-01-28T17:23:05.225283Z",
     "iopub.status.busy": "2025-01-28T17:23:05.224549Z",
     "iopub.status.idle": "2025-01-28T17:23:05.255408Z",
     "shell.execute_reply": "2025-01-28T17:23:05.254584Z"
    },
    "papermill": {
     "duration": 0.050391,
     "end_time": "2025-01-28T17:23:05.257703",
     "exception": false,
     "start_time": "2025-01-28T17:23:05.207312",
     "status": "completed"
    },
    "tags": []
   },
   "outputs": [],
   "source": [
    "# Convert 'last contact date' to datetime format\n",
    "train['last contact date'] = pd.to_datetime(train['last contact date'])\n",
    "test['last contact date'] = pd.to_datetime(test['last contact date'])\n",
    "\n",
    "# Extract year, month, day, and weekday from the date\n",
    "train['contact_year'] = train['last contact date'].dt.year\n",
    "train['contact_month'] = train['last contact date'].dt.month\n",
    "train['contact_day'] = train['last contact date'].dt.day\n",
    "train['contact_weekday'] = train['last contact date'].dt.weekday\n",
    "\n",
    "test['contact_year'] = test['last contact date'].dt.year\n",
    "test['contact_month'] = test['last contact date'].dt.month\n",
    "test['contact_day'] = test['last contact date'].dt.day\n",
    "test['contact_weekday'] = test['last contact date'].dt.weekday"
   ]
  },
  {
   "cell_type": "markdown",
   "id": "040e89cb",
   "metadata": {
    "papermill": {
     "duration": 0.017003,
     "end_time": "2025-01-28T17:23:05.291529",
     "exception": false,
     "start_time": "2025-01-28T17:23:05.274526",
     "status": "completed"
    },
    "tags": []
   },
   "source": [
    "Transforming the raw `last contact date` column into multiple new features \n",
    "\n",
    "**Why It's Important:**\n",
    "* ***Time-based Features:*** The extracted year, month, day, and weekday can be important because:\n",
    "Some models may benefit from knowing if a contact was made during a particular month (e.g., seasonal trends).\n",
    "The day of the week may also affect outcomes (e.g., if customers are more likely to respond on weekdays).\n",
    "* ***Machine Learning Models:*** Many machine learning algorithms cannot work directly with datetime values, so we convert these into numerical or categorical features (like year, month, weekday) that can be input into models."
   ]
  },
  {
   "cell_type": "code",
   "execution_count": 15,
   "id": "28a8184b",
   "metadata": {
    "execution": {
     "iopub.execute_input": "2025-01-28T17:23:05.327876Z",
     "iopub.status.busy": "2025-01-28T17:23:05.327045Z",
     "iopub.status.idle": "2025-01-28T17:23:05.345578Z",
     "shell.execute_reply": "2025-01-28T17:23:05.344831Z"
    },
    "papermill": {
     "duration": 0.038779,
     "end_time": "2025-01-28T17:23:05.347599",
     "exception": false,
     "start_time": "2025-01-28T17:23:05.308820",
     "status": "completed"
    },
    "tags": []
   },
   "outputs": [],
   "source": [
    "# Map weekdays and months to string names\n",
    "weekday_map = {0: 'Sunday', 1: 'Monday', 2: 'Tuesday', 3: 'Wednesday', \n",
    "               4: 'Thursday', 5: 'Friday', 6: 'Saturday'}\n",
    "month_map = {1: 'January', 2: 'February', 3: 'March', 4: 'April', \n",
    "             5: 'May', 6: 'June', 7: 'July', 8: 'August', 9: 'September', \n",
    "             10: 'October', 11: 'November', 12: 'December'}\n",
    "\n",
    "train['contact_weekday'] = train['contact_weekday'].map(weekday_map)\n",
    "train['contact_month'] = train['contact_month'].map(month_map)\n",
    "\n",
    "test['contact_weekday'] = test['contact_weekday'].map(weekday_map)\n",
    "test['contact_month'] = test['contact_month'].map(month_map)\n",
    "\n",
    "# Drop the original 'last contact date' column if you no longer need it\n",
    "train.drop('last contact date', axis=1, inplace=True)\n",
    "test.drop('last contact date', axis=1, inplace=True)"
   ]
  },
  {
   "cell_type": "markdown",
   "id": "2e1841c0",
   "metadata": {
    "papermill": {
     "duration": 0.016344,
     "end_time": "2025-01-28T17:23:05.380389",
     "exception": false,
     "start_time": "2025-01-28T17:23:05.364045",
     "status": "completed"
    },
    "tags": []
   },
   "source": [
    "* **Mapping:** converting numeric values (weekday numbers and month numbers) to more human-readable string representations.\n",
    "* **Data Cleaning:** removing unnecessary columns (the original 'last contact date'), which can reduce complexity and avoid data leakage in some cases"
   ]
  },
  {
   "cell_type": "markdown",
   "id": "ece6a8d6",
   "metadata": {
    "papermill": {
     "duration": 0.01615,
     "end_time": "2025-01-28T17:23:05.412722",
     "exception": false,
     "start_time": "2025-01-28T17:23:05.396572",
     "status": "completed"
    },
    "tags": []
   },
   "source": [
    "##  Pipelines Workflow\n",
    "\n",
    "* Automation: Pipelines automate repetitive tasks like preprocessing, training, and evaluation, making the process faster and more efficient.\n",
    "* Reproducibility: With pipelines, you can ensure that the same steps are applied to both training and testing datasets, making the results reproducible and consistent.\n",
    "* Scaling: Pipelines make it easier to handle large datasets and complex workflows, especially when the steps need to be applied repeatedly."
   ]
  },
  {
   "cell_type": "code",
   "execution_count": 16,
   "id": "463f9240",
   "metadata": {
    "execution": {
     "iopub.execute_input": "2025-01-28T17:23:05.448191Z",
     "iopub.status.busy": "2025-01-28T17:23:05.447562Z",
     "iopub.status.idle": "2025-01-28T17:23:05.455916Z",
     "shell.execute_reply": "2025-01-28T17:23:05.454607Z"
    },
    "papermill": {
     "duration": 0.028551,
     "end_time": "2025-01-28T17:23:05.458083",
     "exception": false,
     "start_time": "2025-01-28T17:23:05.429532",
     "status": "completed"
    },
    "tags": []
   },
   "outputs": [],
   "source": [
    "# Define your pipelines for different column types\n",
    "numerical = Pipeline(steps=[\n",
    "    (\"mean\", SimpleImputer(strategy=\"mean\")),\n",
    "    (\"scaler\", StandardScaler())\n",
    "])\n",
    "\n",
    "categorical = Pipeline(steps=[\n",
    "    (\"mode\", SimpleImputer(strategy=\"most_frequent\")),\n",
    "    (\"ohe\", OneHotEncoder(sparse_output=False, handle_unknown='ignore'))\n",
    "])\n",
    "\n",
    "ordinal_day = Pipeline(steps=[\n",
    "    (\"mode\", SimpleImputer(strategy=\"most_frequent\")),\n",
    "    (\"ordinal_day\", OrdinalEncoder(categories=[['Sunday', 'Monday', 'Tuesday', 'Wednesday', 'Thursday', 'Friday', 'Saturday']], \n",
    "                                  unknown_value=-1, handle_unknown=\"use_encoded_value\"))\n",
    "])\n",
    "\n",
    "ordinal_month = Pipeline(steps=[\n",
    "    (\"mode\", SimpleImputer(strategy=\"most_frequent\")),\n",
    "    (\"ordinal_month\", OrdinalEncoder(categories=[['January', 'February', 'March', 'April', 'May',\n",
    "                                                  'June', 'July', 'August', 'September', \n",
    "                                                  'October', 'November', 'December']], \n",
    "                                     unknown_value=-1, handle_unknown=\"use_encoded_value\"))\n",
    "])\n",
    "ordinal_education = Pipeline(steps = [\n",
    "    (\"mode\", SimpleImputer(strategy = \"most_frequent\")),\n",
    "    (\"ordinal_education\", OrdinalEncoder(categories = [['primary','secondary','tertiary']],unknown_value = -1,handle_unknown = \"use_encoded_value\"))\n",
    "])"
   ]
  },
  {
   "cell_type": "markdown",
   "id": "e29f4f7b",
   "metadata": {
    "papermill": {
     "duration": 0.016796,
     "end_time": "2025-01-28T17:23:05.492324",
     "exception": false,
     "start_time": "2025-01-28T17:23:05.475528",
     "status": "completed"
    },
    "tags": []
   },
   "source": [
    "* **Standardizing the process:** Each type of data (numeric, categorical, ordinal) has its own pipeline, making the steps repeatable and consistent.\n",
    "* **Handling missing data:** Missing values are handled differently for different types of features (e.g., mean imputation for numeric data and mode imputation for categorical/ordinal data).\n",
    "* **Encoding categorical/ordinal data:** Transforms raw data into a format that machine learning models can use effectively (e.g., one-hot encoding for nominal categories and ordinal encoding for ordered categories).\n",
    "* **Improving model performance:** Proper scaling, encoding, and handling of unknown values contribute to better model performance."
   ]
  },
  {
   "cell_type": "code",
   "execution_count": 17,
   "id": "ee4f87c1",
   "metadata": {
    "execution": {
     "iopub.execute_input": "2025-01-28T17:23:05.527934Z",
     "iopub.status.busy": "2025-01-28T17:23:05.526909Z",
     "iopub.status.idle": "2025-01-28T17:23:05.531893Z",
     "shell.execute_reply": "2025-01-28T17:23:05.531099Z"
    },
    "papermill": {
     "duration": 0.024774,
     "end_time": "2025-01-28T17:23:05.533813",
     "exception": false,
     "start_time": "2025-01-28T17:23:05.509039",
     "status": "completed"
    },
    "tags": []
   },
   "outputs": [],
   "source": [
    "numeric_columns = ['age', 'balance', 'duration', 'campaign', 'pdays', 'previous']\n",
    "categorical_columns = ['job', 'marital', 'education', 'default', 'housing', 'loan', 'contact', 'poutcome']"
   ]
  },
  {
   "cell_type": "code",
   "execution_count": 18,
   "id": "456143ef",
   "metadata": {
    "execution": {
     "iopub.execute_input": "2025-01-28T17:23:05.569090Z",
     "iopub.status.busy": "2025-01-28T17:23:05.568763Z",
     "iopub.status.idle": "2025-01-28T17:23:05.574155Z",
     "shell.execute_reply": "2025-01-28T17:23:05.573232Z"
    },
    "papermill": {
     "duration": 0.025161,
     "end_time": "2025-01-28T17:23:05.575886",
     "exception": false,
     "start_time": "2025-01-28T17:23:05.550725",
     "status": "completed"
    },
    "tags": []
   },
   "outputs": [],
   "source": [
    "# ColumnTransformer\n",
    "transformer = ColumnTransformer(transformers=[\n",
    "    (\"numerical\", numerical, numeric_columns),\n",
    "    (\"categorical\", categorical, categorical_columns),\n",
    "    (\"ordinal_day\", ordinal_day, ['contact_weekday']),  \n",
    "    (\"ordinal_month\", ordinal_month, ['contact_month']),  \n",
    "    (\"ordinal_education\", ordinal_education, ['education']),\n",
    "    \n",
    "], remainder=\"passthrough\").set_output(transform=\"pandas\")"
   ]
  },
  {
   "cell_type": "markdown",
   "id": "ddb9cbc1",
   "metadata": {
    "papermill": {
     "duration": 0.016447,
     "end_time": "2025-01-28T17:23:05.608306",
     "exception": false,
     "start_time": "2025-01-28T17:23:05.591859",
     "status": "completed"
    },
    "tags": []
   },
   "source": [
    "**The ColumnTransformer allows you to:**\n",
    "\n",
    "* Apply specific preprocessing steps (defined as pipelines) to different groups of columns based on their types or requirements (e.g., numeric, categorical, ordinal).\n",
    "* Combine all the preprocessed columns back into a single DataFrame or array, ready for modeling.\n",
    "* Handle heterogeneous data types (e.g., numerical, categorical, ordinal) efficiently within one framework."
   ]
  },
  {
   "cell_type": "code",
   "execution_count": 19,
   "id": "e9da11ea",
   "metadata": {
    "execution": {
     "iopub.execute_input": "2025-01-28T17:23:05.643662Z",
     "iopub.status.busy": "2025-01-28T17:23:05.642848Z",
     "iopub.status.idle": "2025-01-28T17:23:05.650865Z",
     "shell.execute_reply": "2025-01-28T17:23:05.650061Z"
    },
    "papermill": {
     "duration": 0.027697,
     "end_time": "2025-01-28T17:23:05.652747",
     "exception": false,
     "start_time": "2025-01-28T17:23:05.625050",
     "status": "completed"
    },
    "tags": []
   },
   "outputs": [],
   "source": [
    "# Encoding the target column 'target' in the train data ('yes' -> 1, 'no' -> 0)\n",
    "# train['target'] = le.fit_transform(train['target'])\n",
    "\n",
    "train['target'] = train['target'].map({'yes': 1, 'no': 0})"
   ]
  },
  {
   "cell_type": "markdown",
   "id": "8a085f96",
   "metadata": {
    "papermill": {
     "duration": 0.016272,
     "end_time": "2025-01-28T17:23:05.685307",
     "exception": false,
     "start_time": "2025-01-28T17:23:05.669035",
     "status": "completed"
    },
    "tags": []
   },
   "source": [
    "Most machine learning algorithms require the target variable to be in numeric format for computation. By encoding 'yes' and 'no' into 1 and 0, respectively, you make the target variable suitable for training models like logistic regression, decision trees, etc"
   ]
  },
  {
   "cell_type": "code",
   "execution_count": 20,
   "id": "72f32fcb",
   "metadata": {
    "execution": {
     "iopub.execute_input": "2025-01-28T17:23:05.719635Z",
     "iopub.status.busy": "2025-01-28T17:23:05.719247Z",
     "iopub.status.idle": "2025-01-28T17:23:05.736242Z",
     "shell.execute_reply": "2025-01-28T17:23:05.735278Z"
    },
    "papermill": {
     "duration": 0.036544,
     "end_time": "2025-01-28T17:23:05.738256",
     "exception": false,
     "start_time": "2025-01-28T17:23:05.701712",
     "status": "completed"
    },
    "tags": []
   },
   "outputs": [
    {
     "data": {
      "text/html": [
       "<div>\n",
       "<style scoped>\n",
       "    .dataframe tbody tr th:only-of-type {\n",
       "        vertical-align: middle;\n",
       "    }\n",
       "\n",
       "    .dataframe tbody tr th {\n",
       "        vertical-align: top;\n",
       "    }\n",
       "\n",
       "    .dataframe thead th {\n",
       "        text-align: right;\n",
       "    }\n",
       "</style>\n",
       "<table border=\"1\" class=\"dataframe\">\n",
       "  <thead>\n",
       "    <tr style=\"text-align: right;\">\n",
       "      <th></th>\n",
       "      <th>job</th>\n",
       "      <th>education</th>\n",
       "      <th>contact</th>\n",
       "      <th>poutcome</th>\n",
       "      <th>age</th>\n",
       "      <th>marital</th>\n",
       "      <th>default</th>\n",
       "      <th>balance</th>\n",
       "      <th>housing</th>\n",
       "      <th>loan</th>\n",
       "      <th>duration</th>\n",
       "      <th>campaign</th>\n",
       "      <th>pdays</th>\n",
       "      <th>previous</th>\n",
       "      <th>target</th>\n",
       "      <th>contact_year</th>\n",
       "      <th>contact_month</th>\n",
       "      <th>contact_day</th>\n",
       "      <th>contact_weekday</th>\n",
       "    </tr>\n",
       "  </thead>\n",
       "  <tbody>\n",
       "    <tr>\n",
       "      <th>0</th>\n",
       "      <td>blue-collar</td>\n",
       "      <td>secondary</td>\n",
       "      <td>cellular</td>\n",
       "      <td>other</td>\n",
       "      <td>26</td>\n",
       "      <td>married</td>\n",
       "      <td>no</td>\n",
       "      <td>647</td>\n",
       "      <td>yes</td>\n",
       "      <td>no</td>\n",
       "      <td>357</td>\n",
       "      <td>2</td>\n",
       "      <td>331</td>\n",
       "      <td>1</td>\n",
       "      <td>0</td>\n",
       "      <td>2009</td>\n",
       "      <td>April</td>\n",
       "      <td>17</td>\n",
       "      <td>Thursday</td>\n",
       "    </tr>\n",
       "    <tr>\n",
       "      <th>1</th>\n",
       "      <td>technician</td>\n",
       "      <td>secondary</td>\n",
       "      <td>telephone</td>\n",
       "      <td>unknown</td>\n",
       "      <td>52</td>\n",
       "      <td>married</td>\n",
       "      <td>no</td>\n",
       "      <td>553</td>\n",
       "      <td>yes</td>\n",
       "      <td>no</td>\n",
       "      <td>160</td>\n",
       "      <td>1</td>\n",
       "      <td>-1</td>\n",
       "      <td>0</td>\n",
       "      <td>0</td>\n",
       "      <td>2009</td>\n",
       "      <td>October</td>\n",
       "      <td>11</td>\n",
       "      <td>Saturday</td>\n",
       "    </tr>\n",
       "    <tr>\n",
       "      <th>2</th>\n",
       "      <td>blue-collar</td>\n",
       "      <td>secondary</td>\n",
       "      <td>cellular</td>\n",
       "      <td>unknown</td>\n",
       "      <td>44</td>\n",
       "      <td>married</td>\n",
       "      <td>no</td>\n",
       "      <td>1397</td>\n",
       "      <td>no</td>\n",
       "      <td>no</td>\n",
       "      <td>326</td>\n",
       "      <td>1</td>\n",
       "      <td>-1</td>\n",
       "      <td>0</td>\n",
       "      <td>0</td>\n",
       "      <td>2010</td>\n",
       "      <td>November</td>\n",
       "      <td>20</td>\n",
       "      <td>Friday</td>\n",
       "    </tr>\n",
       "    <tr>\n",
       "      <th>3</th>\n",
       "      <td>admin.</td>\n",
       "      <td>secondary</td>\n",
       "      <td>telephone</td>\n",
       "      <td>unknown</td>\n",
       "      <td>33</td>\n",
       "      <td>married</td>\n",
       "      <td>no</td>\n",
       "      <td>394</td>\n",
       "      <td>yes</td>\n",
       "      <td>no</td>\n",
       "      <td>104</td>\n",
       "      <td>3</td>\n",
       "      <td>-1</td>\n",
       "      <td>0</td>\n",
       "      <td>0</td>\n",
       "      <td>2009</td>\n",
       "      <td>September</td>\n",
       "      <td>1</td>\n",
       "      <td>Monday</td>\n",
       "    </tr>\n",
       "    <tr>\n",
       "      <th>4</th>\n",
       "      <td>entrepreneur</td>\n",
       "      <td>tertiary</td>\n",
       "      <td>cellular</td>\n",
       "      <td>unknown</td>\n",
       "      <td>31</td>\n",
       "      <td>single</td>\n",
       "      <td>no</td>\n",
       "      <td>137</td>\n",
       "      <td>no</td>\n",
       "      <td>no</td>\n",
       "      <td>445</td>\n",
       "      <td>2</td>\n",
       "      <td>-1</td>\n",
       "      <td>0</td>\n",
       "      <td>0</td>\n",
       "      <td>2008</td>\n",
       "      <td>January</td>\n",
       "      <td>29</td>\n",
       "      <td>Monday</td>\n",
       "    </tr>\n",
       "  </tbody>\n",
       "</table>\n",
       "</div>"
      ],
      "text/plain": [
       "            job  education    contact poutcome age  marital default balance  \\\n",
       "0   blue-collar  secondary   cellular    other  26  married      no     647   \n",
       "1    technician  secondary  telephone  unknown  52  married      no     553   \n",
       "2   blue-collar  secondary   cellular  unknown  44  married      no    1397   \n",
       "3        admin.  secondary  telephone  unknown  33  married      no     394   \n",
       "4  entrepreneur   tertiary   cellular  unknown  31   single      no     137   \n",
       "\n",
       "  housing loan duration campaign pdays previous  target  contact_year  \\\n",
       "0     yes   no      357        2   331        1       0          2009   \n",
       "1     yes   no      160        1    -1        0       0          2009   \n",
       "2      no   no      326        1    -1        0       0          2010   \n",
       "3     yes   no      104        3    -1        0       0          2009   \n",
       "4      no   no      445        2    -1        0       0          2008   \n",
       "\n",
       "  contact_month  contact_day contact_weekday  \n",
       "0         April           17        Thursday  \n",
       "1       October           11        Saturday  \n",
       "2      November           20          Friday  \n",
       "3     September            1          Monday  \n",
       "4       January           29          Monday  "
      ]
     },
     "execution_count": 20,
     "metadata": {},
     "output_type": "execute_result"
    }
   ],
   "source": [
    "train.head()"
   ]
  },
  {
   "cell_type": "markdown",
   "id": "8ac8213d",
   "metadata": {
    "papermill": {
     "duration": 0.016505,
     "end_time": "2025-01-28T17:23:05.771789",
     "exception": false,
     "start_time": "2025-01-28T17:23:05.755284",
     "status": "completed"
    },
    "tags": []
   },
   "source": [
    "# **Model Building**\n",
    "During model building, various machine learning algorithms will be applied to predict outcomes from the engineered dataset. The data will be split into training and validation sets to evaluate performance. Models, including XGBoost, Lightbgm and logistic regression, will be compared using accuracy and other metrics. Hyperparameter tuning and cross-validation will optimize performance, culminating in the selection of the best model for accurate predictions on unseen data.\n",
    "\n",
    "**Tools Used:**\n",
    "`F1 Score`, `Confusion Matrix`, `Classification Report`, `XGBoost` (XGBClassifier), `LightGBM` (LGBMClassifier), `SMOTE`, `Weighted Binning`"
   ]
  },
  {
   "cell_type": "markdown",
   "id": "c92bfbe2",
   "metadata": {
    "papermill": {
     "duration": 0.016444,
     "end_time": "2025-01-28T17:23:05.804827",
     "exception": false,
     "start_time": "2025-01-28T17:23:05.788383",
     "status": "completed"
    },
    "tags": []
   },
   "source": [
    "## Data Splitting\n",
    "\n",
    "* Separate the dataset into features (X) and target (y).\n",
    "* Split the data into training and testing sets (80-20 split).\n",
    "\n",
    "\n",
    "**Training Set:**\n",
    "\n",
    "* Used to train the machine learning model.\n",
    "* The model learns patterns and relationships from this data.\n",
    "\n",
    "**Test Set:**\n",
    "\n",
    "* Used to evaluate the final model's performance on completely unseen data.\n",
    "* Ensures the model generalizes well to new data."
   ]
  },
  {
   "cell_type": "code",
   "execution_count": 21,
   "id": "b5b46fc8",
   "metadata": {
    "execution": {
     "iopub.execute_input": "2025-01-28T17:23:05.839517Z",
     "iopub.status.busy": "2025-01-28T17:23:05.839049Z",
     "iopub.status.idle": "2025-01-28T17:23:06.105158Z",
     "shell.execute_reply": "2025-01-28T17:23:06.104188Z"
    },
    "papermill": {
     "duration": 0.285861,
     "end_time": "2025-01-28T17:23:06.107268",
     "exception": false,
     "start_time": "2025-01-28T17:23:05.821407",
     "status": "completed"
    },
    "tags": []
   },
   "outputs": [],
   "source": [
    "X = train.drop('target', axis=1)\n",
    "\n",
    "y = train['target']\n",
    "\n",
    "# Apply the transformer to the training dataset\n",
    "X_transformed = transformer.fit_transform(X)\n",
    "\n",
    "X_train, X_test, y_train, y_test = train_test_split(X_transformed, y, test_size=0.2, random_state=69)"
   ]
  },
  {
   "cell_type": "markdown",
   "id": "64dc351f",
   "metadata": {
    "papermill": {
     "duration": 0.016751,
     "end_time": "2025-01-28T17:23:06.141165",
     "exception": false,
     "start_time": "2025-01-28T17:23:06.124414",
     "status": "completed"
    },
    "tags": []
   },
   "source": [
    "##  *Logistic Regression*\n",
    "Logistic Regression is a type of regression analysis used when the dependent variable (target) is categorical, typically binary. It is used to predict the probability of an outcome that can be classified into one of two categories (for example, spam vs. not spam, default vs. non-default, etc.).\n",
    "\n",
    "Unlike linear regression, which predicts a continuous numerical output, logistic regression predicts the probability of a categorical outcome, using the sigmoid (logistic) function to map the output to a value between 0 and 1.\n",
    "\n",
    "*The decision boundary is based on a threshold (default is 0.5):*\n",
    "\n",
    "* If P>0.5: Predict class 1.\n",
    "* If P≤0.5: Predict class 0."
   ]
  },
  {
   "cell_type": "code",
   "execution_count": 22,
   "id": "351133a5",
   "metadata": {
    "execution": {
     "iopub.execute_input": "2025-01-28T17:23:06.176754Z",
     "iopub.status.busy": "2025-01-28T17:23:06.176371Z",
     "iopub.status.idle": "2025-01-28T17:23:06.823387Z",
     "shell.execute_reply": "2025-01-28T17:23:06.821012Z"
    },
    "papermill": {
     "duration": 0.668955,
     "end_time": "2025-01-28T17:23:06.827138",
     "exception": false,
     "start_time": "2025-01-28T17:23:06.158183",
     "status": "completed"
    },
    "tags": []
   },
   "outputs": [
    {
     "data": {
      "text/html": [
       "<style>#sk-container-id-1 {color: black;background-color: white;}#sk-container-id-1 pre{padding: 0;}#sk-container-id-1 div.sk-toggleable {background-color: white;}#sk-container-id-1 label.sk-toggleable__label {cursor: pointer;display: block;width: 100%;margin-bottom: 0;padding: 0.3em;box-sizing: border-box;text-align: center;}#sk-container-id-1 label.sk-toggleable__label-arrow:before {content: \"▸\";float: left;margin-right: 0.25em;color: #696969;}#sk-container-id-1 label.sk-toggleable__label-arrow:hover:before {color: black;}#sk-container-id-1 div.sk-estimator:hover label.sk-toggleable__label-arrow:before {color: black;}#sk-container-id-1 div.sk-toggleable__content {max-height: 0;max-width: 0;overflow: hidden;text-align: left;background-color: #f0f8ff;}#sk-container-id-1 div.sk-toggleable__content pre {margin: 0.2em;color: black;border-radius: 0.25em;background-color: #f0f8ff;}#sk-container-id-1 input.sk-toggleable__control:checked~div.sk-toggleable__content {max-height: 200px;max-width: 100%;overflow: auto;}#sk-container-id-1 input.sk-toggleable__control:checked~label.sk-toggleable__label-arrow:before {content: \"▾\";}#sk-container-id-1 div.sk-estimator input.sk-toggleable__control:checked~label.sk-toggleable__label {background-color: #d4ebff;}#sk-container-id-1 div.sk-label input.sk-toggleable__control:checked~label.sk-toggleable__label {background-color: #d4ebff;}#sk-container-id-1 input.sk-hidden--visually {border: 0;clip: rect(1px 1px 1px 1px);clip: rect(1px, 1px, 1px, 1px);height: 1px;margin: -1px;overflow: hidden;padding: 0;position: absolute;width: 1px;}#sk-container-id-1 div.sk-estimator {font-family: monospace;background-color: #f0f8ff;border: 1px dotted black;border-radius: 0.25em;box-sizing: border-box;margin-bottom: 0.5em;}#sk-container-id-1 div.sk-estimator:hover {background-color: #d4ebff;}#sk-container-id-1 div.sk-parallel-item::after {content: \"\";width: 100%;border-bottom: 1px solid gray;flex-grow: 1;}#sk-container-id-1 div.sk-label:hover label.sk-toggleable__label {background-color: #d4ebff;}#sk-container-id-1 div.sk-serial::before {content: \"\";position: absolute;border-left: 1px solid gray;box-sizing: border-box;top: 0;bottom: 0;left: 50%;z-index: 0;}#sk-container-id-1 div.sk-serial {display: flex;flex-direction: column;align-items: center;background-color: white;padding-right: 0.2em;padding-left: 0.2em;position: relative;}#sk-container-id-1 div.sk-item {position: relative;z-index: 1;}#sk-container-id-1 div.sk-parallel {display: flex;align-items: stretch;justify-content: center;background-color: white;position: relative;}#sk-container-id-1 div.sk-item::before, #sk-container-id-1 div.sk-parallel-item::before {content: \"\";position: absolute;border-left: 1px solid gray;box-sizing: border-box;top: 0;bottom: 0;left: 50%;z-index: -1;}#sk-container-id-1 div.sk-parallel-item {display: flex;flex-direction: column;z-index: 1;position: relative;background-color: white;}#sk-container-id-1 div.sk-parallel-item:first-child::after {align-self: flex-end;width: 50%;}#sk-container-id-1 div.sk-parallel-item:last-child::after {align-self: flex-start;width: 50%;}#sk-container-id-1 div.sk-parallel-item:only-child::after {width: 0;}#sk-container-id-1 div.sk-dashed-wrapped {border: 1px dashed gray;margin: 0 0.4em 0.5em 0.4em;box-sizing: border-box;padding-bottom: 0.4em;background-color: white;}#sk-container-id-1 div.sk-label label {font-family: monospace;font-weight: bold;display: inline-block;line-height: 1.2em;}#sk-container-id-1 div.sk-label-container {text-align: center;}#sk-container-id-1 div.sk-container {/* jupyter's `normalize.less` sets `[hidden] { display: none; }` but bootstrap.min.css set `[hidden] { display: none !important; }` so we also need the `!important` here to be able to override the default hidden behavior on the sphinx rendered scikit-learn.org. See: https://github.com/scikit-learn/scikit-learn/issues/21755 */display: inline-block !important;position: relative;}#sk-container-id-1 div.sk-text-repr-fallback {display: none;}</style><div id=\"sk-container-id-1\" class=\"sk-top-container\"><div class=\"sk-text-repr-fallback\"><pre>LogisticRegression()</pre><b>In a Jupyter environment, please rerun this cell to show the HTML representation or trust the notebook. <br />On GitHub, the HTML representation is unable to render, please try loading this page with nbviewer.org.</b></div><div class=\"sk-container\" hidden><div class=\"sk-item\"><div class=\"sk-estimator sk-toggleable\"><input class=\"sk-toggleable__control sk-hidden--visually\" id=\"sk-estimator-id-1\" type=\"checkbox\" checked><label for=\"sk-estimator-id-1\" class=\"sk-toggleable__label sk-toggleable__label-arrow\">LogisticRegression</label><div class=\"sk-toggleable__content\"><pre>LogisticRegression()</pre></div></div></div></div></div>"
      ],
      "text/plain": [
       "LogisticRegression()"
      ]
     },
     "execution_count": 22,
     "metadata": {},
     "output_type": "execute_result"
    }
   ],
   "source": [
    "# Create and train the model\n",
    "model = LogisticRegression() \n",
    "model.fit(X_train, y_train)"
   ]
  },
  {
   "cell_type": "code",
   "execution_count": 23,
   "id": "bcc33984",
   "metadata": {
    "execution": {
     "iopub.execute_input": "2025-01-28T17:23:06.942340Z",
     "iopub.status.busy": "2025-01-28T17:23:06.941946Z",
     "iopub.status.idle": "2025-01-28T17:23:06.963742Z",
     "shell.execute_reply": "2025-01-28T17:23:06.962009Z"
    },
    "papermill": {
     "duration": 0.04394,
     "end_time": "2025-01-28T17:23:06.967261",
     "exception": false,
     "start_time": "2025-01-28T17:23:06.923321",
     "status": "completed"
    },
    "tags": []
   },
   "outputs": [
    {
     "name": "stdout",
     "output_type": "stream",
     "text": [
      "Macro F1 Score: 0.5947915510221227\n"
     ]
    }
   ],
   "source": [
    "# Make predictions\n",
    "y_pred = model.predict(X_test)\n",
    "\n",
    "# Calculate the Macro F1 Score\n",
    "macro_f1 = f1_score(y_test, y_pred, average='macro')\n",
    "print(f\"Macro F1 Score: {macro_f1}\")"
   ]
  },
  {
   "cell_type": "code",
   "execution_count": 24,
   "id": "2013ecf9",
   "metadata": {
    "execution": {
     "iopub.execute_input": "2025-01-28T17:23:07.065781Z",
     "iopub.status.busy": "2025-01-28T17:23:07.065146Z",
     "iopub.status.idle": "2025-01-28T17:23:07.092416Z",
     "shell.execute_reply": "2025-01-28T17:23:07.091421Z"
    },
    "papermill": {
     "duration": 0.079081,
     "end_time": "2025-01-28T17:23:07.094645",
     "exception": false,
     "start_time": "2025-01-28T17:23:07.015564",
     "status": "completed"
    },
    "tags": []
   },
   "outputs": [
    {
     "name": "stdout",
     "output_type": "stream",
     "text": [
      "[[6540  161]\n",
      " [ 941  201]]\n",
      "              precision    recall  f1-score   support\n",
      "\n",
      "           0       0.87      0.98      0.92      6701\n",
      "           1       0.56      0.18      0.27      1142\n",
      "\n",
      "    accuracy                           0.86      7843\n",
      "   macro avg       0.71      0.58      0.59      7843\n",
      "weighted avg       0.83      0.86      0.83      7843\n",
      "\n"
     ]
    }
   ],
   "source": [
    "from sklearn.metrics import confusion_matrix, classification_report\n",
    "# Confusion Matrix\n",
    "conf_matrix = confusion_matrix(y_test, y_pred)\n",
    "print(conf_matrix)\n",
    "\n",
    "# Classification Report\n",
    "class_report = classification_report(y_test, y_pred)\n",
    "print(class_report)\r\n"
   ]
  },
  {
   "cell_type": "markdown",
   "id": "40fef399",
   "metadata": {
    "papermill": {
     "duration": 0.028857,
     "end_time": "2025-01-28T17:23:07.144139",
     "exception": false,
     "start_time": "2025-01-28T17:23:07.115282",
     "status": "completed"
    },
    "tags": []
   },
   "source": [
    "$$ Accuracy = \\frac {True Positives+True Negatives} { Total Samples } $$\n",
    "\n",
    "$$ Precision = \\frac {True Positives} { True Positives + False Positives } $$\n",
    "\n",
    "$$ F1 Score = 2 \\frac {Precision×Recall} { Precision+Recall } $$\n",
    "\n",
    "$$ Recall = \\frac {True Positives} { True Positives + False Negatives } $$\n",
    "\n",
    "The confusion in this model arises from the poor identification of the positive class (class 1), with a large number of false negatives, indicating the model's inability to identify and classify the minority class properly. "
   ]
  },
  {
   "cell_type": "markdown",
   "id": "9a95526f",
   "metadata": {
    "papermill": {
     "duration": 0.018043,
     "end_time": "2025-01-28T17:23:07.185821",
     "exception": false,
     "start_time": "2025-01-28T17:23:07.167778",
     "status": "completed"
    },
    "tags": []
   },
   "source": [
    "## ***XGBoost***\n",
    "\n",
    "XGBoost stands for “Extreme Gradient Boosting”. In this algorithm, decision trees are created in sequential form. Weights play an important role in XGBoost. Weights are assigned to all the independent variables which are then fed into the decision tree which predicts results. The weight of variables predicted wrong by the tree is increased and these variables are then fed to the second decision tree. These individual classifiers/predictors then ensemble to give a strong and more precise model."
   ]
  },
  {
   "cell_type": "code",
   "execution_count": 25,
   "id": "db2a19d9",
   "metadata": {
    "execution": {
     "iopub.execute_input": "2025-01-28T17:23:07.222948Z",
     "iopub.status.busy": "2025-01-28T17:23:07.222575Z",
     "iopub.status.idle": "2025-01-28T17:23:07.233109Z",
     "shell.execute_reply": "2025-01-28T17:23:07.232088Z"
    },
    "papermill": {
     "duration": 0.031529,
     "end_time": "2025-01-28T17:23:07.235214",
     "exception": false,
     "start_time": "2025-01-28T17:23:07.203685",
     "status": "completed"
    },
    "tags": []
   },
   "outputs": [],
   "source": [
    "# Initialize the XGBoost classifier\n",
    "xgb_model = xgb.XGBClassifier(\n",
    "    objective='binary:logistic',  # Binary classification\n",
    "    eval_metric='logloss',         # Evaluation metric\n",
    "    use_label_encoder=False,        # Avoid warnings with label encoder\n",
    "    scale_pos_weight=(len(y_train) - sum(y_train)) / sum(y_train),  # Adjusting for class imbalance\n",
    "    random_state=42\n",
    ")\n"
   ]
  },
  {
   "cell_type": "markdown",
   "id": "403747f5",
   "metadata": {
    "papermill": {
     "duration": 0.017144,
     "end_time": "2025-01-28T17:23:07.270205",
     "exception": false,
     "start_time": "2025-01-28T17:23:07.253061",
     "status": "completed"
    },
    "tags": []
   },
   "source": [
    "**Summary of Model Initialization:**\n",
    "\n",
    "* The XGBoost classifier is configured for binary classification using logistic regression.\n",
    "* The evaluation metric used during training will be logloss to assess the model's probabilistic predictions.\n",
    "* The model will adjust for class imbalance by using the scale_pos_weight parameter, which is calculated based on the class distribution in the training set.\n",
    "* Label encoding is disabled by setting use_label_encoder=False, preventing unnecessary warnings if the labels are already encoded.\n",
    "* Reproducibility is ensured by setting the random_state to a fixed value."
   ]
  },
  {
   "cell_type": "code",
   "execution_count": 26,
   "id": "b80dd70c",
   "metadata": {
    "execution": {
     "iopub.execute_input": "2025-01-28T17:23:07.308508Z",
     "iopub.status.busy": "2025-01-28T17:23:07.308046Z",
     "iopub.status.idle": "2025-01-28T17:23:08.465284Z",
     "shell.execute_reply": "2025-01-28T17:23:08.464404Z"
    },
    "papermill": {
     "duration": 1.179962,
     "end_time": "2025-01-28T17:23:08.468456",
     "exception": false,
     "start_time": "2025-01-28T17:23:07.288494",
     "status": "completed"
    },
    "tags": []
   },
   "outputs": [
    {
     "name": "stdout",
     "output_type": "stream",
     "text": [
      "Macro F1 Score: 0.7593071285879841\n"
     ]
    }
   ],
   "source": [
    "# Fit the model\n",
    "xgb_model.fit(X_train, y_train)\n",
    "# Make predictions\n",
    "y_pred = xgb_model.predict(X_test)\n",
    "# Calculate Macro F1 Score\n",
    "macro_f1 = f1_score(y_test, y_pred, average='macro')\n",
    "print(f'Macro F1 Score: {macro_f1}')"
   ]
  },
  {
   "cell_type": "markdown",
   "id": "d35856b9",
   "metadata": {
    "papermill": {
     "duration": 0.017926,
     "end_time": "2025-01-28T17:23:08.506074",
     "exception": false,
     "start_time": "2025-01-28T17:23:08.488148",
     "status": "completed"
    },
    "tags": []
   },
   "source": [
    "##  ***Lightgbm***\n",
    "A Gradient Boosting Decision Tree (GBDT), such as LightGBM in Python, is a highly favored machine learning algorithm renowned for its effectiveness. It uses two types of techniques which are gradient Based on side sampling or GOSS and Exclusive Feature bundling or EFB. So GOSS will actually exclude the significant portion of the data part which have small gradients and only use the remaining data to estimate the overall information gain. The data instances which have large gradients actually play a greater role for computation on information gain. GOSS can get accurate results with a significant information gain despite using a smaller dataset than other models. data."
   ]
  },
  {
   "cell_type": "code",
   "execution_count": 27,
   "id": "6f02bec3",
   "metadata": {
    "execution": {
     "iopub.execute_input": "2025-01-28T17:23:08.544396Z",
     "iopub.status.busy": "2025-01-28T17:23:08.543411Z",
     "iopub.status.idle": "2025-01-28T17:23:09.216543Z",
     "shell.execute_reply": "2025-01-28T17:23:09.215529Z"
    },
    "papermill": {
     "duration": 0.6947,
     "end_time": "2025-01-28T17:23:09.218653",
     "exception": false,
     "start_time": "2025-01-28T17:23:08.523953",
     "status": "completed"
    },
    "tags": []
   },
   "outputs": [
    {
     "name": "stdout",
     "output_type": "stream",
     "text": [
      "[LightGBM] [Info] Number of positive: 4685, number of negative: 26683\n",
      "[LightGBM] [Info] Auto-choosing row-wise multi-threading, the overhead of testing was 0.005648 seconds.\n",
      "You can set `force_row_wise=true` to remove the overhead.\n",
      "And if memory is not enough, you can set `force_col_wise=true`.\n",
      "[LightGBM] [Info] Total Bins 1269\n",
      "[LightGBM] [Info] Number of data points in the train set: 31368, number of used features: 41\n",
      "[LightGBM] [Info] [binary:BoostFromScore]: pavg=0.149356 -> initscore=-1.739661\n",
      "[LightGBM] [Info] Start training from score -1.739661\n"
     ]
    },
    {
     "data": {
      "text/html": [
       "<style>#sk-container-id-2 {color: black;background-color: white;}#sk-container-id-2 pre{padding: 0;}#sk-container-id-2 div.sk-toggleable {background-color: white;}#sk-container-id-2 label.sk-toggleable__label {cursor: pointer;display: block;width: 100%;margin-bottom: 0;padding: 0.3em;box-sizing: border-box;text-align: center;}#sk-container-id-2 label.sk-toggleable__label-arrow:before {content: \"▸\";float: left;margin-right: 0.25em;color: #696969;}#sk-container-id-2 label.sk-toggleable__label-arrow:hover:before {color: black;}#sk-container-id-2 div.sk-estimator:hover label.sk-toggleable__label-arrow:before {color: black;}#sk-container-id-2 div.sk-toggleable__content {max-height: 0;max-width: 0;overflow: hidden;text-align: left;background-color: #f0f8ff;}#sk-container-id-2 div.sk-toggleable__content pre {margin: 0.2em;color: black;border-radius: 0.25em;background-color: #f0f8ff;}#sk-container-id-2 input.sk-toggleable__control:checked~div.sk-toggleable__content {max-height: 200px;max-width: 100%;overflow: auto;}#sk-container-id-2 input.sk-toggleable__control:checked~label.sk-toggleable__label-arrow:before {content: \"▾\";}#sk-container-id-2 div.sk-estimator input.sk-toggleable__control:checked~label.sk-toggleable__label {background-color: #d4ebff;}#sk-container-id-2 div.sk-label input.sk-toggleable__control:checked~label.sk-toggleable__label {background-color: #d4ebff;}#sk-container-id-2 input.sk-hidden--visually {border: 0;clip: rect(1px 1px 1px 1px);clip: rect(1px, 1px, 1px, 1px);height: 1px;margin: -1px;overflow: hidden;padding: 0;position: absolute;width: 1px;}#sk-container-id-2 div.sk-estimator {font-family: monospace;background-color: #f0f8ff;border: 1px dotted black;border-radius: 0.25em;box-sizing: border-box;margin-bottom: 0.5em;}#sk-container-id-2 div.sk-estimator:hover {background-color: #d4ebff;}#sk-container-id-2 div.sk-parallel-item::after {content: \"\";width: 100%;border-bottom: 1px solid gray;flex-grow: 1;}#sk-container-id-2 div.sk-label:hover label.sk-toggleable__label {background-color: #d4ebff;}#sk-container-id-2 div.sk-serial::before {content: \"\";position: absolute;border-left: 1px solid gray;box-sizing: border-box;top: 0;bottom: 0;left: 50%;z-index: 0;}#sk-container-id-2 div.sk-serial {display: flex;flex-direction: column;align-items: center;background-color: white;padding-right: 0.2em;padding-left: 0.2em;position: relative;}#sk-container-id-2 div.sk-item {position: relative;z-index: 1;}#sk-container-id-2 div.sk-parallel {display: flex;align-items: stretch;justify-content: center;background-color: white;position: relative;}#sk-container-id-2 div.sk-item::before, #sk-container-id-2 div.sk-parallel-item::before {content: \"\";position: absolute;border-left: 1px solid gray;box-sizing: border-box;top: 0;bottom: 0;left: 50%;z-index: -1;}#sk-container-id-2 div.sk-parallel-item {display: flex;flex-direction: column;z-index: 1;position: relative;background-color: white;}#sk-container-id-2 div.sk-parallel-item:first-child::after {align-self: flex-end;width: 50%;}#sk-container-id-2 div.sk-parallel-item:last-child::after {align-self: flex-start;width: 50%;}#sk-container-id-2 div.sk-parallel-item:only-child::after {width: 0;}#sk-container-id-2 div.sk-dashed-wrapped {border: 1px dashed gray;margin: 0 0.4em 0.5em 0.4em;box-sizing: border-box;padding-bottom: 0.4em;background-color: white;}#sk-container-id-2 div.sk-label label {font-family: monospace;font-weight: bold;display: inline-block;line-height: 1.2em;}#sk-container-id-2 div.sk-label-container {text-align: center;}#sk-container-id-2 div.sk-container {/* jupyter's `normalize.less` sets `[hidden] { display: none; }` but bootstrap.min.css set `[hidden] { display: none !important; }` so we also need the `!important` here to be able to override the default hidden behavior on the sphinx rendered scikit-learn.org. See: https://github.com/scikit-learn/scikit-learn/issues/21755 */display: inline-block !important;position: relative;}#sk-container-id-2 div.sk-text-repr-fallback {display: none;}</style><div id=\"sk-container-id-2\" class=\"sk-top-container\"><div class=\"sk-text-repr-fallback\"><pre>LGBMClassifier(metric=&#x27;binary_logloss&#x27;, objective=&#x27;binary&#x27;, random_state=10,\n",
       "               scale_pos_weight=5.695410885805763)</pre><b>In a Jupyter environment, please rerun this cell to show the HTML representation or trust the notebook. <br />On GitHub, the HTML representation is unable to render, please try loading this page with nbviewer.org.</b></div><div class=\"sk-container\" hidden><div class=\"sk-item\"><div class=\"sk-estimator sk-toggleable\"><input class=\"sk-toggleable__control sk-hidden--visually\" id=\"sk-estimator-id-2\" type=\"checkbox\" checked><label for=\"sk-estimator-id-2\" class=\"sk-toggleable__label sk-toggleable__label-arrow\">LGBMClassifier</label><div class=\"sk-toggleable__content\"><pre>LGBMClassifier(metric=&#x27;binary_logloss&#x27;, objective=&#x27;binary&#x27;, random_state=10,\n",
       "               scale_pos_weight=5.695410885805763)</pre></div></div></div></div></div>"
      ],
      "text/plain": [
       "LGBMClassifier(metric='binary_logloss', objective='binary', random_state=10,\n",
       "               scale_pos_weight=5.695410885805763)"
      ]
     },
     "execution_count": 27,
     "metadata": {},
     "output_type": "execute_result"
    }
   ],
   "source": [
    "# Initialize the LightGBM classifier\n",
    "lgb_model = lgb.LGBMClassifier(\n",
    "    objective='binary',\n",
    "    metric='binary_logloss',\n",
    "    scale_pos_weight=(len(y_train) - sum(y_train)) / sum(y_train),  # Adjusting for class imbalance\n",
    "    random_state=10\n",
    ")\n",
    "\n",
    "# Fit the model\n",
    "lgb_model.fit(X_train, y_train)"
   ]
  },
  {
   "cell_type": "code",
   "execution_count": 28,
   "id": "b985e624",
   "metadata": {
    "execution": {
     "iopub.execute_input": "2025-01-28T17:23:09.257172Z",
     "iopub.status.busy": "2025-01-28T17:23:09.256232Z",
     "iopub.status.idle": "2025-01-28T17:23:09.322285Z",
     "shell.execute_reply": "2025-01-28T17:23:09.321133Z"
    },
    "papermill": {
     "duration": 0.087571,
     "end_time": "2025-01-28T17:23:09.324400",
     "exception": false,
     "start_time": "2025-01-28T17:23:09.236829",
     "status": "completed"
    },
    "tags": []
   },
   "outputs": [
    {
     "name": "stdout",
     "output_type": "stream",
     "text": [
      "Macro F1 Score: 0.7572435490569439\n"
     ]
    }
   ],
   "source": [
    "# Make predictions\n",
    "y_pred = lgb_model.predict(X_test)\n",
    "# Calculate Macro F1 Score\n",
    "macro_f1 = f1_score(y_test, y_pred, average='macro')\n",
    "print(f'Macro F1 Score: {macro_f1}')"
   ]
  },
  {
   "cell_type": "markdown",
   "id": "f380c7ad",
   "metadata": {
    "papermill": {
     "duration": 0.016905,
     "end_time": "2025-01-28T17:23:09.359611",
     "exception": false,
     "start_time": "2025-01-28T17:23:09.342706",
     "status": "completed"
    },
    "tags": []
   },
   "source": [
    "##  ***Voting Classifier***\n",
    "A Voting Classifier is a machine learning model that trains on an ensemble of numerous models and predicts an output (class) based on their highest probability of chosen class as the output. It simply aggregates the findings of each classifier passed into Voting Classifier and predicts the output class based on the highest majority of voting."
   ]
  },
  {
   "cell_type": "code",
   "execution_count": 29,
   "id": "97b4bfb6",
   "metadata": {
    "execution": {
     "iopub.execute_input": "2025-01-28T17:23:09.396123Z",
     "iopub.status.busy": "2025-01-28T17:23:09.395740Z",
     "iopub.status.idle": "2025-01-28T17:23:39.759260Z",
     "shell.execute_reply": "2025-01-28T17:23:39.758202Z"
    },
    "papermill": {
     "duration": 30.402885,
     "end_time": "2025-01-28T17:23:39.779980",
     "exception": false,
     "start_time": "2025-01-28T17:23:09.377095",
     "status": "completed"
    },
    "tags": []
   },
   "outputs": [
    {
     "name": "stdout",
     "output_type": "stream",
     "text": [
      "Macro F1 Score with Voting Classifier: 0.7283201032680326\n"
     ]
    }
   ],
   "source": [
    "# Apply SMOTE\n",
    "smote = SMOTE(random_state=42)\n",
    "X_train_resampled, y_train_resampled = smote.fit_resample(X_train, y_train)\n",
    "\n",
    "# Define individual models\n",
    "log_model = LogisticRegression()\n",
    "tree_model = DecisionTreeClassifier(random_state=42)\n",
    "forest_model = RandomForestClassifier(random_state=42)\n",
    "gradient_model = GradientBoostingClassifier()\n",
    "\n",
    "# Create a Voting Classifier\n",
    "voting_clf = VotingClassifier(estimators=[\n",
    "    ('logistic', log_model),\n",
    "    ('decision_tree', tree_model),\n",
    "    ('random_forest', forest_model),\n",
    "    ('gradient_model', gradient_model)],\n",
    "    voting='hard') \n",
    "\n",
    "# Fit the Voting Classifier\n",
    "voting_clf.fit(X_train_resampled, y_train_resampled)\n",
    "\n",
    "# Make predictions and evaluate\n",
    "y_pred = voting_clf.predict(X_test)\n",
    "macro_f1 = f1_score(y_test, y_pred, average='macro')\n",
    "print(f\"Macro F1 Score with Voting Classifier: {macro_f1}\")\n"
   ]
  },
  {
   "cell_type": "markdown",
   "id": "5ccb99bb",
   "metadata": {
    "papermill": {
     "duration": 0.018326,
     "end_time": "2025-01-28T17:23:39.817723",
     "exception": false,
     "start_time": "2025-01-28T17:23:39.799397",
     "status": "completed"
    },
    "tags": []
   },
   "source": [
    "* **Preprocessing:** handle class imbalance with SMOTE.\n",
    "* **Resampling** refers to the process of adjusting the data distribution by modifying the sample size of one or more classes in the dataset.\n",
    "* **Model Definition:** Define several machine learning models (Logistic Regression, Decision Tree, Random Forest, Gradient Boosting).\n",
    "* **Voting Classifier:** Combine the individual models into a Voting Classifier using hard voting.\n",
    "* **Training:** Train the Voting Classifier on the resampled data.\n",
    "* **Evaluation:** Make predictions on the test set and evaluate the performance using the Macro F1 Score."
   ]
  },
  {
   "cell_type": "markdown",
   "id": "8e4f5bb0",
   "metadata": {
    "papermill": {
     "duration": 0.018124,
     "end_time": "2025-01-28T17:23:39.854024",
     "exception": false,
     "start_time": "2025-01-28T17:23:39.835900",
     "status": "completed"
    },
    "tags": []
   },
   "source": [
    "# Submission Files"
   ]
  },
  {
   "cell_type": "code",
   "execution_count": 30,
   "id": "54618287",
   "metadata": {
    "execution": {
     "iopub.execute_input": "2025-01-28T17:23:39.892622Z",
     "iopub.status.busy": "2025-01-28T17:23:39.892198Z",
     "iopub.status.idle": "2025-01-28T17:23:39.986174Z",
     "shell.execute_reply": "2025-01-28T17:23:39.985366Z"
    },
    "papermill": {
     "duration": 0.115817,
     "end_time": "2025-01-28T17:23:39.988375",
     "exception": false,
     "start_time": "2025-01-28T17:23:39.872558",
     "status": "completed"
    },
    "tags": []
   },
   "outputs": [],
   "source": [
    "# Make predictions on the test set using your chosen model (e.g., xgb_model)\n",
    "test_transformed = transformer.transform(test)\n",
    "y_pred_test = xgb_model.predict(test_transformed)\n",
    "\n",
    "# Create a DataFrame for submission\n",
    "submission_df = pd.DataFrame({'id': test.index, 'target': y_pred_test})\n",
    "\n",
    "# Convert the target predictions to 'yes' or 'no' strings\n",
    "submission_df['target'] = np.where(submission_df['target'] == 1, 'yes', 'no')\n",
    "\n",
    "# Save the submission file to CSV\n",
    "submission_df.to_csv('submission.csv', index=False)\n"
   ]
  },
  {
   "cell_type": "code",
   "execution_count": 31,
   "id": "eafd958e",
   "metadata": {
    "execution": {
     "iopub.execute_input": "2025-01-28T17:23:40.027430Z",
     "iopub.status.busy": "2025-01-28T17:23:40.026989Z",
     "iopub.status.idle": "2025-01-28T17:23:40.106580Z",
     "shell.execute_reply": "2025-01-28T17:23:40.104649Z"
    },
    "papermill": {
     "duration": 0.10274,
     "end_time": "2025-01-28T17:23:40.110345",
     "exception": false,
     "start_time": "2025-01-28T17:23:40.007605",
     "status": "completed"
    },
    "tags": []
   },
   "outputs": [],
   "source": [
    "# Make predictions on the test set using your chosen model (e.g., xgb_model)\n",
    "test_transformed = transformer.transform(test)\n",
    "y_pred_test = model.predict(test_transformed)\n",
    "\n",
    "# Create a DataFrame for submission\n",
    "submission_df = pd.DataFrame({'id': test.index, 'target': y_pred_test})\n",
    "\n",
    "# Convert the target predictions to 'yes' or 'no' strings\n",
    "submission_df['target'] = np.where(submission_df['target'] == 1, 'yes', 'no')\n",
    "\n",
    "# Save the submission file to CSV\n",
    "submission_df.to_csv('submission.csv', index=False)"
   ]
  },
  {
   "cell_type": "code",
   "execution_count": 32,
   "id": "75acf08f",
   "metadata": {
    "execution": {
     "iopub.execute_input": "2025-01-28T17:23:40.205542Z",
     "iopub.status.busy": "2025-01-28T17:23:40.205128Z",
     "iopub.status.idle": "2025-01-28T17:23:40.331230Z",
     "shell.execute_reply": "2025-01-28T17:23:40.330408Z"
    },
    "papermill": {
     "duration": 0.171655,
     "end_time": "2025-01-28T17:23:40.333541",
     "exception": false,
     "start_time": "2025-01-28T17:23:40.161886",
     "status": "completed"
    },
    "tags": []
   },
   "outputs": [],
   "source": [
    "# Make predictions on the test set using your chosen model (e.g., xgb_model)\n",
    "test_transformed = transformer.transform(test)\n",
    "y_pred_test = lgb_model.predict(test_transformed)\n",
    "\n",
    "# Create a DataFrame for submission\n",
    "submission_df = pd.DataFrame({'id': test.index, 'target': y_pred_test})\n",
    "\n",
    "# Convert the target predictions to 'yes' or 'no' strings\n",
    "submission_df['target'] = np.where(submission_df['target'] == 1, 'yes', 'no')\n",
    "\n",
    "# Save the submission file to CSV\n",
    "submission_df.to_csv('submission.csv', index=False)"
   ]
  },
  {
   "cell_type": "markdown",
   "id": "7b89b773",
   "metadata": {
    "papermill": {
     "duration": 0.017859,
     "end_time": "2025-01-28T17:23:40.370189",
     "exception": false,
     "start_time": "2025-01-28T17:23:40.352330",
     "status": "completed"
    },
    "tags": []
   },
   "source": [
    "# Model Optimization"
   ]
  },
  {
   "cell_type": "markdown",
   "id": "23e6439a",
   "metadata": {
    "papermill": {
     "duration": 0.01773,
     "end_time": "2025-01-28T17:23:40.405873",
     "exception": false,
     "start_time": "2025-01-28T17:23:40.388143",
     "status": "completed"
    },
    "tags": []
   },
   "source": [
    "##  **Hyperparameter tuning**\n",
    "\n",
    "Beyond tuning for accuracy, hyperparameter optimization within an MLOps pipeline includes tools for automated hyperparameter searches, ensuring efficiency and reproducibility.\n",
    "Techniques for hyperparameter tuning include grid search (where you try out different combinations of parameters) and cross validation (where you divide your data into subsets and train your model on each subset to ensure it performs well on different data)."
   ]
  },
  {
   "cell_type": "markdown",
   "id": "6bd6f9c8",
   "metadata": {
    "papermill": {
     "duration": 0.018009,
     "end_time": "2025-01-28T17:23:40.442126",
     "exception": false,
     "start_time": "2025-01-28T17:23:40.424117",
     "status": "completed"
    },
    "tags": []
   },
   "source": [
    "## ***XGBClassifier***"
   ]
  },
  {
   "cell_type": "code",
   "execution_count": 33,
   "id": "f5de2fd3",
   "metadata": {
    "execution": {
     "iopub.execute_input": "2025-01-28T17:23:40.480004Z",
     "iopub.status.busy": "2025-01-28T17:23:40.479631Z",
     "iopub.status.idle": "2025-01-28T17:26:02.082749Z",
     "shell.execute_reply": "2025-01-28T17:26:02.081790Z"
    },
    "papermill": {
     "duration": 141.643753,
     "end_time": "2025-01-28T17:26:02.104029",
     "exception": false,
     "start_time": "2025-01-28T17:23:40.460276",
     "status": "completed"
    },
    "tags": []
   },
   "outputs": [
    {
     "name": "stdout",
     "output_type": "stream",
     "text": [
      "Best parameters for XGBoost: {'learning_rate': 0.2, 'max_depth': 5, 'n_estimators': 200}\n"
     ]
    }
   ],
   "source": [
    "from sklearn.model_selection import GridSearchCV\n",
    "\n",
    "# Example for tuning the XGBoost model\n",
    "xgb_model = XGBClassifier(use_label_encoder=False, eval_metric='logloss')\n",
    "\n",
    "param_grid = {\n",
    "    'max_depth': [3, 4, 5, 6, 7],\n",
    "    'n_estimators': [100, 200],\n",
    "    'learning_rate': [0.01, 0.1, 0.2, 0.5]\n",
    "}\n",
    "\n",
    "grid_search = GridSearchCV(xgb_model, param_grid, scoring='f1_macro', cv=5)\n",
    "grid_search.fit(X_train, y_train)\n",
    "\n",
    "# Best parameters for XGBoost\n",
    "print(\"Best parameters for XGBoost:\", grid_search.best_params_)\n"
   ]
  },
  {
   "cell_type": "markdown",
   "id": "0ba72a93",
   "metadata": {
    "papermill": {
     "duration": 0.018565,
     "end_time": "2025-01-28T17:26:02.142012",
     "exception": false,
     "start_time": "2025-01-28T17:26:02.123447",
     "status": "completed"
    },
    "tags": []
   },
   "source": [
    "Conducted hyperparameter tuning for an XGBoost model using **GridSearchCV** with 5-fold cross-validation to optimize its performance. The goal was to maximize the **Macro F1 Score**, and the search was performed over a parameter grid that included:\r\n",
    "\r\n",
    "- **`max_depth`**: Values ranging from 3 to 7.\r\n",
    "- **`n_estimators`**: Values of 100 and 200.\r\n",
    "- **`learning_rate`**: Values of 0.01, 0.1, 0.2, and 0.5.\r\n",
    "\r\n",
    "After evaluating all combinations, the best parameters were determined to be:\r\n",
    "- **`learning_rate`**: 0.2\r\n",
    "- **`max_de5th`**: 6\r\n",
    "- **`n_estima2ors`**: 100.\r\n",
    "\r\n",
    "This parameter combination yielded the highest Macro F1 Score during cross-validation, indicating a well-balanced performance across all classes.\n",
    "\n",
    "The GridSearchCV performs a comprehensive search over all combinations of these hyperparameters, using 5-fold cross-validation and f1_macro as the scoring metric. After the search, the best combination of hyperparameters is determined and printed. This process ensures that the model is tuned to achieve the best possible Macro F1 Score, which evaluates performance across all classes."
   ]
  },
  {
   "cell_type": "code",
   "execution_count": 34,
   "id": "078131a3",
   "metadata": {
    "execution": {
     "iopub.execute_input": "2025-01-28T17:26:02.181269Z",
     "iopub.status.busy": "2025-01-28T17:26:02.180869Z",
     "iopub.status.idle": "2025-01-28T17:26:03.146887Z",
     "shell.execute_reply": "2025-01-28T17:26:03.145667Z"
    },
    "papermill": {
     "duration": 0.988279,
     "end_time": "2025-01-28T17:26:03.149135",
     "exception": false,
     "start_time": "2025-01-28T17:26:02.160856",
     "status": "completed"
    },
    "tags": []
   },
   "outputs": [
    {
     "name": "stdout",
     "output_type": "stream",
     "text": [
      "Macro F1 Score with best parameters: 0.7220683911102901\n"
     ]
    }
   ],
   "source": [
    "# Train the model with the best parameters\n",
    "best_xgb_model = XGBClassifier(\n",
    "    learning_rate=0.2,\n",
    "    max_depth=5,\n",
    "    n_estimators=200,\n",
    "    use_label_encoder=False,\n",
    "    eval_metric='logloss'\n",
    ")\n",
    "\n",
    "# Fit the model\n",
    "best_xgb_model.fit(X_train, y_train)\n",
    "\n",
    "# Make predictions\n",
    "y_pred = best_xgb_model.predict(X_test)\n",
    "\n",
    "# Calculate the F1 score\n",
    "f1 = f1_score(y_test, y_pred, average='macro')\n",
    "print(f\"Macro F1 Score with best parameters: {f1}\")"
   ]
  },
  {
   "cell_type": "markdown",
   "id": "a82f75a4",
   "metadata": {
    "papermill": {
     "duration": 0.018195,
     "end_time": "2025-01-28T17:26:03.186290",
     "exception": false,
     "start_time": "2025-01-28T17:26:03.168095",
     "status": "completed"
    },
    "tags": []
   },
   "source": [
    "## Weighted Binning\n",
    "Weighted Binning is a technique used to discretize continuous variables by grouping them into bins (intervals). This can be helpful in feature engineering, especially when dealing with imbalanced data. The goal is to assign a weight or importance to each bin based on how predictive it is for the target variable. "
   ]
  },
  {
   "cell_type": "code",
   "execution_count": 35,
   "id": "2b8ace9a",
   "metadata": {
    "execution": {
     "iopub.execute_input": "2025-01-28T17:26:03.225583Z",
     "iopub.status.busy": "2025-01-28T17:26:03.225165Z",
     "iopub.status.idle": "2025-01-28T17:26:03.895026Z",
     "shell.execute_reply": "2025-01-28T17:26:03.894064Z"
    },
    "papermill": {
     "duration": 0.692052,
     "end_time": "2025-01-28T17:26:03.897236",
     "exception": false,
     "start_time": "2025-01-28T17:26:03.205184",
     "status": "completed"
    },
    "tags": []
   },
   "outputs": [
    {
     "name": "stdout",
     "output_type": "stream",
     "text": [
      "Macro F1 Score: 0.7571954686173272\n"
     ]
    }
   ],
   "source": [
    "# Calculate class weights\n",
    "weight_for_0 = (1 / np.bincount(y))[0]  # Weight for negative class\n",
    "weight_for_1 = (1 / np.bincount(y))[1]  # Weight for positive class\n",
    "scale_pos_weight = weight_for_1 / weight_for_0\n",
    "\n",
    "# Initialize the XGBoost model with scale_pos_weight\n",
    "xgbc_model = XGBClassifier(scale_pos_weight=scale_pos_weight)\n",
    "\n",
    "# Fit the model\n",
    "xgbc_model.fit(X_train, y_train)\n",
    "\n",
    "# Make predictions\n",
    "y_pred = xgbc_model.predict(X_test)\n",
    "\n",
    "# Calculate and print the Macro F1 Score\n",
    "macro_f1 = f1_score(y_test, y_pred, average='macro')\n",
    "print(f\"Macro F1 Score: {macro_f1}\")\n"
   ]
  },
  {
   "cell_type": "markdown",
   "id": "cccb3bcc",
   "metadata": {
    "papermill": {
     "duration": 0.019173,
     "end_time": "2025-01-28T17:26:03.935258",
     "exception": false,
     "start_time": "2025-01-28T17:26:03.916085",
     "status": "completed"
    },
    "tags": []
   },
   "source": [
    "**Class Weight Calculation:** Class weights were calculated based on the inverse of class frequencies, and the scale_pos_weight parameter was derived to balance the positive and negative classes in the dataset."
   ]
  },
  {
   "cell_type": "code",
   "execution_count": 36,
   "id": "04f08ca3",
   "metadata": {
    "execution": {
     "iopub.execute_input": "2025-01-28T17:26:03.976963Z",
     "iopub.status.busy": "2025-01-28T17:26:03.975923Z",
     "iopub.status.idle": "2025-01-28T17:26:04.104212Z",
     "shell.execute_reply": "2025-01-28T17:26:04.103132Z"
    },
    "papermill": {
     "duration": 0.150491,
     "end_time": "2025-01-28T17:26:04.106700",
     "exception": false,
     "start_time": "2025-01-28T17:26:03.956209",
     "status": "completed"
    },
    "tags": []
   },
   "outputs": [],
   "source": [
    "# Make predictions on the test set using your chosen model (e.g., xgb_model)\n",
    "test_transformed = transformer.transform(test)\n",
    "y_pred_test = lgb_model.predict(test_transformed)\n",
    "\n",
    "# Create a DataFrame for submission\n",
    "submission_df = pd.DataFrame({'id': test.index, 'target': y_pred_test})\n",
    "\n",
    "# Convert the target predictions to 'yes' or 'no' strings\n",
    "submission_df['target'] = np.where(submission_df['target'] == 1, 'yes', 'no')\n",
    "\n",
    "# Save the submission file to CSV\n",
    "submission_df.to_csv('submission.csv', index=False)"
   ]
  },
  {
   "cell_type": "markdown",
   "id": "6e147a1b",
   "metadata": {
    "papermill": {
     "duration": 0.018521,
     "end_time": "2025-01-28T17:26:04.144022",
     "exception": false,
     "start_time": "2025-01-28T17:26:04.125501",
     "status": "completed"
    },
    "tags": []
   },
   "source": [
    "# **Results:**\n",
    "* Weighted Binning achieved the best Macro F1 Score, outperforming more complex models. It effectively addressed the class imbalance by assigning different weights to feature bins based on class distribution.\n",
    "* XGBoost and LightGBM performed well but were slightly edged out by the Weighted Binning approach. The Voting Classifier and Logistic Regression showed comparatively weaker results due to their limited ability to handle class imbalance effectively.\n",
    "* Hyperparameter tuning (HPT) on XGBoost and LightGBM improved performance but did not surpass Weighted Binning."
   ]
  },
  {
   "cell_type": "markdown",
   "id": "6432cb41",
   "metadata": {
    "papermill": {
     "duration": 0.017927,
     "end_time": "2025-01-28T17:26:04.180444",
     "exception": false,
     "start_time": "2025-01-28T17:26:04.162517",
     "status": "completed"
    },
    "tags": []
   },
   "source": [
    "# **Challenges Faced**\n",
    "\n",
    "* **Imbalanced Data:** This was one of the primary challenges, as it can lead to a model that predicts the majority class most of the time, ignoring the minority class. Techniques like SMOTE, scale_pos_weight, and careful evaluation using the Macro F1 Score were critical in overcoming this challenge.\n",
    "\n",
    "* **Model Tuning**: GridSearchCV helped automate this task, but it was computationally expensive and time-consuming.\n",
    "\n",
    "* **Overfitting:** Some models like decision trees are prone to overfitting, especially when there are many features. Regularization and careful cross-validation were necessary to avoid overfitting."
   ]
  },
  {
   "cell_type": "markdown",
   "id": "ddf6ee00",
   "metadata": {
    "papermill": {
     "duration": 0.018551,
     "end_time": "2025-01-28T17:26:04.217329",
     "exception": false,
     "start_time": "2025-01-28T17:26:04.198778",
     "status": "completed"
    },
    "tags": []
   },
   "source": [
    "# **Limitations**\n",
    "* **Data Quality:** The performance of the model will be highly dependent on the quality of the data. Missing values, noisy data, or incorrect labels could affect predictions.\n",
    "* **External Factors:** The model does not account for external factors such as economic downturns, industry trends, or other macroeconomic influences that might affect loan default rates."
   ]
  },
  {
   "cell_type": "markdown",
   "id": "7296911f",
   "metadata": {
    "papermill": {
     "duration": 0.017767,
     "end_time": "2025-01-28T17:26:04.253466",
     "exception": false,
     "start_time": "2025-01-28T17:26:04.235699",
     "status": "completed"
    },
    "tags": []
   },
   "source": [
    "# **Conclusion**\n",
    "\n",
    "* This project demonstrated the process of building a robust machine learning pipeline to solve a binary classification problem. Key stages such as data preprocessing, model training, evaluation, and hyperparameter tuning were applied to address challenges like imbalanced data. By leveraging advanced models such as XGBoost and LightGBM, and by applying techniques like SMOTE and ensemble learning, we were able to achieve a strong model capable of making reliable predictions.\n",
    "\n",
    "* The work completed here provides a solid foundation for deploying predictive models in real-world scenarios, such as credit scoring, customer classification, or fraud detection, while also offering insights into common machine learning challenges and their solutions."
   ]
  }
 ],
 "metadata": {
  "kaggle": {
   "accelerator": "none",
   "dataSources": [
    {
     "databundleVersionId": 9578279,
     "sourceId": 85062,
     "sourceType": "competition"
    }
   ],
   "dockerImageVersionId": 30775,
   "isGpuEnabled": false,
   "isInternetEnabled": false,
   "language": "python",
   "sourceType": "notebook"
  },
  "kernelspec": {
   "display_name": "Python 3",
   "language": "python",
   "name": "python3"
  },
  "language_info": {
   "codemirror_mode": {
    "name": "ipython",
    "version": 3
   },
   "file_extension": ".py",
   "mimetype": "text/x-python",
   "name": "python",
   "nbconvert_exporter": "python",
   "pygments_lexer": "ipython3",
   "version": "3.10.14"
  },
  "papermill": {
   "default_parameters": {},
   "duration": 193.297813,
   "end_time": "2025-01-28T17:26:05.092882",
   "environment_variables": {},
   "exception": null,
   "input_path": "__notebook__.ipynb",
   "output_path": "__notebook__.ipynb",
   "parameters": {},
   "start_time": "2025-01-28T17:22:51.795069",
   "version": "2.6.0"
  }
 },
 "nbformat": 4,
 "nbformat_minor": 5
}
